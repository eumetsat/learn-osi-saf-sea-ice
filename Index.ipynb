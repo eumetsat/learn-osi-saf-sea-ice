{
 "cells": [
  {
   "cell_type": "markdown",
   "metadata": {
    "Collapsed": "false"
   },
   "source": [
    "<img src='https://gitlab.eumetsat.int/eumetlab/oceans/ocean-training/tools/frameworks/-/raw/main/img/OSI-SAF_banner.png' align='right' width='100%'/>"
   ]
  },
  {
   "cell_type": "markdown",
   "metadata": {},
   "source": [
    "<font color=\"#138D75\">**EUMETSAT OSI SAF Training Service**</font> <br>\n",
    "**Copyright:** 2022 EUMETSAT<br>\n",
    "**License:** MIT"
   ]
  },
  {
   "cell_type": "markdown",
   "metadata": {},
   "source": [
    "<div class=\"alert alert-block alert-success\">\n",
    "<h3>Learn OSI-SAF Sea Ice Parameters</h3></div>\n",
    "<hr>"
   ]
  },
  {
   "cell_type": "markdown",
   "metadata": {
    "Collapsed": "false"
   },
   "source": [
    "# Index for the learn-OSI-SAF-sea-ice module\n",
    "\n",
    "### About \n",
    "\n",
    "The Satellite Application Facilities (SAFs) are dedicated centres of excellence for processing satellite data – hosted by a National Meteorological Service – which utilise specialist expertise from institutes based in Member States. EUMETSAT created Satellite Application Facilities (SAFs) to complement its Central Facilities capability in Darmstadt. The Ocean and Sea Ice Satellite Application Facility (OSI SAF) is one of eight EUMETSAT SAFs, which provide users with operational data and software products. More on SAFs can be read at www.eumetsat.int. \n",
    "\n",
    "OSI SAF produces (on an operational basis) a range of air-sea interface products, namely: wind, sea ice characteristics, Sea Surface Temperatures (SST), Surface Solar Irradiance (SSI) and Downward Longwave Irradiance (DLI). The sea ice products include sea ice concentration, the sea ice emissivity at 50 GHz, sea ice edge, sea ice type and sea ice drift and sea ice surface temperature (from mid 2014). \n",
    "\n",
    "The OSI SAF consortium is hosted by Météo-France. The sea ice processing is performed at the High Latitude processing facility (HL centre), operated jointly by the Norwegian and Danish Meteorological Institutes. \n",
    "\n",
    "Note: The ownership and copyrights of the data set belong to EUMETSAT. The data is distributed freely, but EUMETSAT must be acknowledged when using the data. EUMETSAT's copyright credit must be shown by displaying the words \"copyright (year) EUMETSAT\" on each of the products used.  We welcome anyone to use the data. The comments that we get from our users is an important input when defining development activities and updates, and user feedback to the OSI SAF project team is highly valued.\n",
    "\n",
    "Users are highly recommended to register on the OSI SAF web Site  in order to get access to useful information, documentation and links, news, service messages, and access to the help desk.\n",
    "\n",
    "Further information on the sensor and its data can be found at https://osi-saf.eumetsat.int and in the https://osi-saf.eumetsat.int/products/sea-surface-temperature-products Sea Ice Parameters products page</a>.\n",
    "<hr>\n",
    "\n",
    "### Module outline\n",
    "\n",
    "The **learn-osi-saf-sea-ice** module consists of a collection of Python-based Jupyter notebooks designed to demonstrate how to access and map different OSI SAF Sea Surface Temperature products. The module will introduce you to:\n",
    "\n",
    "* the specifics of the OSI SAF Sea Ice products\n",
    "* the ways in which you can access OSI SAF Sea Ice data\n",
    "* the parameters that OSI SAF Sea Ice products provide at level-2, level-3, level-4\n",
    "* approaches to working with OSI SAF Sea Ice data in common use cases\n",
    "\n",
    "<hr>\n",
    "\n",
    "### How to use this material\n",
    "\n",
    "This module is based around a series of <a href=\"https://jupyter.org/\" target=\"_blank\">Jupyter Notebooks</a>. These support high-level interactive learning by allowing us to combine code, text descriptions and data visualisations. If you have not worked with Jupyter Notebooks before, please look at the\n",
    "\n",
    "<a href=\"./working-with-python/Intro_to_Python_and_Jupyter.ipynb\" target=\"_blank\">Introduction to Python and Project Jupyter</a> module to get a short introduction to their usage and benefits. Refer to this module's **README** for further information on how to set up Jupyter.\n",
    "\n",
    "This module is designed for:\n",
    "* <font color=\"#229954\">**introductory users**</font>, who have basic knowledge of Python and are new to using OSI-SAF data\n",
    "\n",
    "There is a suggested order in which to access the notebooks, and pre-requisites where applicable are listed at the top of each notebook. However, not all notebooks may be relevant for every user, so we have tried to make each one as self contained as possible.\n",
    "\n",
    "<hr>\n",
    "\n",
    "### Learning outcomes\n",
    "\n",
    "From this module, you can expect to learn:\n",
    "* How to access OSI SAF Sea Ice data from the OSI SAF ftp data services\n",
    "* The general file structure of  OSI SAF Sea Ice products, and how to read them using Python\n",
    "* How to visualise OSI SAF Sea Ice data products, applying appropriate flags.\n",
    "\n",
    "<hr>"
   ]
  },
  {
   "cell_type": "markdown",
   "metadata": {},
   "source": [
    "<div class=\"alert alert-info\" role=\"alert\">\n",
    "\n",
    "## <a id='TOC_TOP'></a>Contents\n",
    "\n",
    "</div>\n",
    "    \n",
    "This modules offers notebooks for introductory uses of OSI-SAF SST data.\n",
    "\n",
    "<h3>OSI SAF <font color=\"#229954\"> introductory</font> notebooks.</h3>\n",
    "\n",
    " These resources will introduce you to the fundamentals of OSI-SAF SST data<br>\n",
    " *  <a href=\"./1_OSI_SAF_sea_ice_introductory/1_1_OSI_SAF_sea_ice_FTP_data_access.ipynb\" target=\"_blank\">1.1 Accesinng all OSI-SAF Sea Ice products from FTP server</a>\n",
    " *  <a href=\"./1_OSI_SAF_sea_ice_introductory/1_2_OSI_SAF_SST_file_structure.ipynb\" target=\"_blank\">1.2 Exploring OSI SAF Sea Ice file structure</a>\n",
    " *  <a href=\"./1_OSI_SAF_sea_ice_introductory/1_3a_OSI_SAF_sea_ice_mapping_Ice_Concentration.ipynb\" target=\"_blank\">1.3a Mapping OSI SAF Sea Ice Concentration</a>\n",
    " *  <a href=\"./1_OSI_SAF_sea_ice_introductory/1_3b_OSI_SAF_sea_ice_mapping_Ice_Edge.ipynb\" target=\"_blank\">1.3b Mapping OSI SAF Sea Ice Edge</a>\n",
    " *  <a href=\"./1_OSI_SAF_sea_ice_introductory/1_3c_OSI_SAF_sea_ice_mapping_Ice_Type.ipynb\" target=\"_blank\">1.3c Mapping OSI SAF Sea Ice Type</a>\n",
    " *  <a href=\"./1_OSI_SAF_sea_ice_introductory/1_3d_OSI_SAF_sea_ice_mapping_Ice_Drift.ipynb\" target=\"_blank\">1.3d Mapping OSI SAF Sea Ice Drift</a>\n",
    "  *  <a href=\"./1_OSI_SAF_sea_ice_introductory/1_4_OSI_SAF_sea_ice_THREDDS_example.ipynb\" target=\"_blank\">1.4 OSI SAF Sea Ice THREDDS example</a>\n"
   ]
  },
  {
   "cell_type": "markdown",
   "metadata": {},
   "source": [
    "<hr>\n",
    "<a href=\"https://gitlab.eumetsat.int/eumetlab/ocean\">View on GitLab</a> | <a href=\"https://training.eumetsat.int/\">EUMETSAT Training</a> | <a href=mailto:ops@eumetsat.int>Contact helpdesk for support </a> | <a href=mailto:Copernicus.training@eumetsat.int>Contact our training team to collaborate on and reuse this material</a></span></p>"
   ]
  }
 ],
 "metadata": {
  "kernelspec": {
   "display_name": "Python 3 (ipykernel)",
   "language": "python",
   "name": "python3"
  },
  "language_info": {
   "codemirror_mode": {
    "name": "ipython",
    "version": 3
   },
   "file_extension": ".py",
   "mimetype": "text/x-python",
   "name": "python",
   "nbconvert_exporter": "python",
   "pygments_lexer": "ipython3",
   "version": "3.10.5"
  }
 },
 "nbformat": 4,
 "nbformat_minor": 4
}
