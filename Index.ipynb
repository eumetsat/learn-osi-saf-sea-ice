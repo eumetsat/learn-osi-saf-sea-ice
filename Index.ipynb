{
 "cells": [
  {
   "cell_type": "markdown",
   "metadata": {
    "Collapsed": "false"
   },
   "source": [
    "<img src='https://gitlab.eumetsat.int/eumetlab/oceans/ocean-training/tools/frameworks/-/raw/main/img/OSI-SAF_banner.png' align='right' width='100%'/>"
   ]
  },
  {
   "cell_type": "markdown",
   "metadata": {},
   "source": [
    "<font color=\"#138D75\">**EUMETSAT OSI SAF Training Service**</font> <br>\n",
    "**Copyright:** 2024 EUMETSAT<br>\n",
    "**License:** MIT"
   ]
  },
  {
   "cell_type": "markdown",
   "metadata": {},
   "source": [
    "<html>\n",
    "  <div style=\"width:100%\">\n",
    "    <div style=\"float:left\"><a href=\"https://mybinder.org/v2/git/https%3A%2F%2Fgitlab.eumetsat.int%2Feumetlab%2Foceans%2Focean-training%2Fsensors%2Flearn-osi-saf-sea-ice/HEAD?urlpath=%2Ftree%2FIndex.ipynb\"><img src=\"https://mybinder.org/badge_logo.svg\" alt=\"Open in Binder\"></a></div>\n",
    "    <div style=\"float:left\"><p>&emsp;</p></div>\n",
    "  </div>\n",
    "</html>"
   ]
  },
  {
   "cell_type": "markdown",
   "metadata": {},
   "source": [
    "<div class=\"alert alert-block alert-success\">\n",
    "<h3>Learn OSI SAF sea ice parameters</h3></div>\n",
    "<hr>"
   ]
  },
  {
   "cell_type": "markdown",
   "metadata": {
    "Collapsed": "false"
   },
   "source": [
    "# Index for the learn-OSI-SAF-sea-ice module\n",
    "\n",
    "### About \n",
    "\n",
    "The Satellite Application Facilities (SAFs) are dedicated centres of excellence for processing satellite data – hosted by a National Meteorological Service – which utilise specialist expertise from institutes based in Member States. EUMETSAT created Satellite Application Facilities (SAFs) to complement its Central Facilities capability in Darmstadt. The Ocean and Sea Ice Satellite Application Facility (OSI SAF) is one of eight EUMETSAT SAFs, which provide users with operational data and software products. More on SAFs can be read at www.eumetsat.int. \n",
    "\n",
    "OSI SAF produces (on an operational basis) a range of air-sea interface products, namely: wind, sea ice characteristics, Sea Surface Temperatures (SST), Surface Solar Irradiance (SSI) and Downward Longwave Irradiance (DLI). The sea ice products include sea ice concentration, the sea ice emissivity at 50 GHz, sea ice edge, sea ice type and sea ice drift and sea ice surface temperature (from mid 2014). \n",
    "\n",
    "The OSI SAF consortium is hosted by Météo-France. The sea ice processing is performed at the High Latitude processing facility (HL centre), operated jointly by the Norwegian and Danish Meteorological Institutes. \n",
    "\n",
    "Note: The ownership and copyrights of the data set belong to EUMETSAT. The data is distributed freely, but EUMETSAT must be acknowledged when using the data. EUMETSAT's copyright credit must be shown by displaying the words \"copyright (year) EUMETSAT\" on each of the products used.  We welcome anyone to use the data. The comments that we get from our users is an important input when defining development activities and updates, and user feedback to the OSI SAF project team is highly valued.\n",
    "\n",
    "Users are highly recommended to register on the OSI SAF web Site  in order to get access to useful information, documentation and links, news, service messages, and access to the help desk.\n",
    "\n",
    "Further information on the sensor and its data can be found at https://osi-saf.eumetsat.int and in the https://osi-saf.eumetsat.int/products/sea-surface-temperature-products Sea Ice Parameters products page</a>.\n",
    "<hr>\n",
    "\n",
    "### Module outline\n",
    "\n",
    "The **learn-osi-saf-sea-ice** module consists of a collection of Python-based Jupyter notebooks designed to demonstrate how to access and map different OSI SAF sea ice products. The module will introduce you to:\n",
    "\n",
    "* the specifics of the OSI SAF sea ice products\n",
    "* the ways in which you can access OSI SAF sea ice data\n",
    "* the parameters that OSI SAF sea ice products provide at level-2, level-3, level-4\n",
    "* approaches to working with OSI SAF sea ice data in common use cases\n",
    "\n",
    "<hr>\n",
    "\n",
    "### How to use this material\n",
    "\n",
    "This module is based around a series of <a href=\"https://jupyter.org/\" target=\"_blank\">Jupyter Notebooks</a>. These support high-level interactive learning by allowing us to combine code, text descriptions and data visualisations. If you have not worked with Jupyter Notebooks before, please look at the\n",
    "\n",
    "<a href=\"./working-with-python/Intro_to_Python_and_Jupyter.ipynb\" target=\"_blank\">Introduction to Python and Project Jupyter</a> module to get a short introduction to their usage and benefits. Refer to this module's **README** for further information on how to set up Jupyter.\n",
    "\n",
    "This module is designed for:\n",
    "* <font color=\"#229954\">**introductory users**</font>, who have basic knowledge of Python and are new to using OSI-SAF data\n",
    "\n",
    "There is a suggested order in which to access the notebooks, and pre-requisites where applicable are listed at the top of each notebook. However, not all notebooks may be relevant for every user, so we have tried to make each one as self contained as possible.\n",
    "\n",
    "<hr>\n",
    "\n",
    "### Learning outcomes\n",
    "\n",
    "From this module, you can expect to learn:\n",
    "* How to access OSI SAF Sea Ice data from the OSI SAF FTP data services\n",
    "* The general file structure of  OSI SAF Sea Ice products, and how to read them using Python\n",
    "* How to visualise OSI SAF Sea Ice data products, applying appropriate flags.\n",
    "\n",
    "<hr>"
   ]
  },
  {
   "cell_type": "markdown",
   "metadata": {},
   "source": [
    "<div class=\"alert alert-info\" role=\"alert\">\n",
    "\n",
    "## <a id='TOC-TOP'></a>Contents\n",
    "\n",
    "</div>\n",
    "This modules offers notebooks for introductory uses of OSI SAF SST data.\n",
    "\n",
    "<h3>OSI SAF <font color=\"#229954\"> introductory</font> notebooks.</h3>\n",
    "\n",
    " These resources will introduce you to the fundamentals of OSI SAF SST data<br>\n",
    " *  <a href=\"./1_OSI_SAF_sea_ice_introductory/1_1a_OSI_SAF_sea_ice_FTP_data_access.ipynb\" target=\"_blank\">1.1a Accessing OSI SAF sea ice products via FTP server</a>\n",
    " *  <a href=\"./1_OSI_SAF_sea_ice_introductory/1_1b_OSI_SAF_sea_ice_C3S_data_access.ipynb\" target=\"_blank\">1.1b Accessing OSI SAF sea ice products via C3S Climate Data Store</a>\n",
    " *  <a href=\"./1_OSI_SAF_sea_ice_introductory/1_1c_OSI_SAF_sea_ice_Copernicus_marine_data_access.ipynb\" target=\"_blank\">1.1c Accessing OSI SAF sea ice products via Copernicus Marine Data service</a>\n",
    " *  <a href=\"./1_OSI_SAF_sea_ice_introductory/1_2_OSI_SAF_sea_ice_file_structure.ipynb\" target=\"_blank\">1.2 Exploring OSI SAF sea ice file structure</a>\n",
    " *  <a href=\"./1_OSI_SAF_sea_ice_introductory/1_3a_OSI_SAF_sea_ice_mapping_Ice_Concentration.ipynb\" target=\"_blank\">1.3a Mapping OSI SAF sea ice concentration</a>\n",
    " *  <a href=\"./1_OSI_SAF_sea_ice_introductory/1_3b_OSI_SAF_sea_ice_mapping_Ice_Edge.ipynb\" target=\"_blank\">1.3b Mapping OSI SAF sea ice edge</a>\n",
    " *  <a href=\"./1_OSI_SAF_sea_ice_introductory/1_3c_OSI_SAF_sea_ice_mapping_Ice_Type.ipynb\" target=\"_blank\">1.3c Mapping OSI SAF sea ice type</a>\n",
    " *  <a href=\"./1_OSI_SAF_sea_ice_introductory/1_3d_OSI_SAF_sea_ice_mapping_Ice_Drift.ipynb\" target=\"_blank\">1.3d Mapping OSI SAF sea ice drift</a>\n",
    " *  <a href=\"./1_OSI_SAF_sea_ice_introductory/1_3e_OSI_SAF_sea_ice_mapping_Ice_Emissivity.ipynb\" target=\"_blank\">1.3e Mapping OSI SAF sea ice emissivity</a>\n",
    " *  <a href=\"./1_OSI_SAF_sea_ice_introductory/1_3f_OSI_SAF_sea_ice_plotting_Ice_Index.ipynb\" target=\"_blank\">1.3f Plotting OSI SAF sea ice index</a>\n",
    " *  <a href=\"./1_OSI_SAF_sea_ice_introductory/1_4_OSI_SAF_sea_ice_THREDDS.ipynb\" target=\"_blank\">1.4 Accessing and mapping OSI SAF sea ice data via THREDDS</a>\n",
    "\n",
    "\n",
    " <h3>OSI SAF <font color=\"#229954\"> use case</font> notebooks.</h3>\n",
    "\n",
    " These resources will introduce you to practical examples of using OSI SAF data.  While not necessarily more advanced, they provide practical applications.<br>\n",
    " *  <a href=\"./2_OSI_SAF_sea_ice_use_case/2_1_OSI_SAF_sea_ice_Monthly_concentration_anomalies.ipynb\" target=\"_blank\">2.1 Use case : Compute monthly mean sea-ice concentration anomaly from EUMETSAT OSI SAF data</a>\n",
    " *  <a href=\"./2_OSI_SAF_sea_ice_use_case/2_2_OSI_SAF_sea_ice_plot_anomaly_as_a_spiral.ipynb\" target=\"_blank\">2.2 Use case : Plot sea ice index data as a Spiral</a>\n",
    " *  More coming soon...\n"
   ]
  },
  {
   "cell_type": "markdown",
   "metadata": {},
   "source": [
    "<hr>\n",
    "<a href=\"https://gitlab.eumetsat.int/eumetlab/ocean\">View on GitLab</a> | <a href=\"https://training.eumetsat.int/\">EUMETSAT Training</a> | <a href=mailto:ops@eumetsat.int>Contact helpdesk for support </a> | <a href=mailto:training@eumetsat.int>Contact our training team to collaborate on and reuse this material</a></span></p>"
   ]
  }
 ],
 "metadata": {
  "author": "Olivier Membrive, Cecile Hernandez, Steinar Eastwood, Signe Aaboe, Thomas Lavergne, Stephane Saux Picart, Ben Loveday, Hayley Evers-King, Gwenael Le Bras",
  "content_type": "Software & code",
  "data_access": [
   "SAF archive",
   "C3S",
   "CMEMS"
  ],
  "deployment": {
   "eumetsat": {
    "binder": {
     "link": "https://mybinder.org/v2/git/https%3A%2F%2Fgitlab.eumetsat.int%2Feumetlab%2Foceans%2Focean-training%2Fsensors%2Flearn-osi-saf-sea-ice/HEAD?urlpath=%2Ftree%2FIndex.ipynb",
     "service_contact": "ops@eumetsat.int",
     "service_provider": "EUMETSAT"
    },
    "git": {
     "link": "https://gitlab.eumetsat.int/eumetlab/oceans/ocean-training/sensors/learn-osi-saf-sea-ice/-/blob/main/Index.ipynb",
     "service_contact": "ops@eumetsat.int",
     "service_provider": "EUMETSAT"
    }
   },
   "wekeo": {
    "git": {
     "link": " ",
     "service_contact": "ops@eumetsat.int",
     "service_provider": "EUMETSAT"
    },
    "url": {
     "link": " ",
     "service_contact": "ops@eumetsat.int",
     "service_provider": "EUMETSAT"
    }
   }
  },
  "description": "This repository provides guidance on accessing and working with OSI SAF sea ice products",
  "image": "../img/thumbs/Index_thumb.png",
  "kernelspec": {
   "display_name": "Python 3 (ipykernel)",
   "language": "python",
   "name": "python3"
  },
  "language_info": {
   "codemirror_mode": {
    "name": "ipython",
    "version": "3"
   },
   "file_extension": ".py",
   "mimetype": "text/x-python",
   "name": "python",
   "nbconvert_exporter": "python",
   "pygments_lexer": "ipython3",
   "version": "03.10.14"
  },
  "license": "MIT",
  "metadata_schema_version": "2.0.0",
  "originator": "EUMETSAT",
  "tags": {
   "data_provider": "EUMETSAT",
   "orbit": " ",
   "satellite": [
    "DMSP",
    "GCOM-W",
    "Metop",
    "NIMBUS",
    "Aqua/Terra"
   ],
   "sensor": [
    "SSMIS (DMSP)",
    "AMSR-2 (GCOM-W)",
    "AVHRR (Metop)",
    "SMMR (NIMBUS)",
    "AMSR-E (Aqua/Terra)",
    "SSM/I (DMSP)"
   ],
   "service": "",
   "subtheme": [
    "Climate system monitoring - Ocean",
    "Ocean dynamics"
   ],
   "theme": "Marine",
   "variable": [
    "Sea ice type",
    "Sea ice concentration",
    "Sea ice emmisivity",
    "Sea ice edge",
    "Sea ice drift",
    "Sea ice index"
   ]
  },
  "title": "Welcome to the EUMETSAT OSI SAF learn-osi-saf-sea-ice GitLab repository",
  "version": "2.0.0",
  "version_date": "2024-07-01"
 },
 "nbformat": 4,
 "nbformat_minor": 4
}
