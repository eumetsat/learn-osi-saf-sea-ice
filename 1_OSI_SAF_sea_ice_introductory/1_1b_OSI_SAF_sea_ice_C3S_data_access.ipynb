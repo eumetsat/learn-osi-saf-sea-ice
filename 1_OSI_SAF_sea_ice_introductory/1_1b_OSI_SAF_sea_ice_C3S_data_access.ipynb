{
 "cells": [
  {
   "cell_type": "markdown",
   "metadata": {},
   "source": [
    "<img src='https://gitlab.eumetsat.int/eumetlab/oceans/ocean-training/tools/frameworks/-/raw/main/img/OSI-SAF_banner.png' align='right' width='100%'/>"
   ]
  },
  {
   "cell_type": "markdown",
   "metadata": {},
   "source": [
    "<a href=\"../Index.ipynb\" target=\"_blank\"><< Index</a>\n",
    "<br>\n",
    "<a href=\"./1_1a_OSI_SAF_sea_ice_FTP_data_access.ipynb\" target=\"_blank\"><< Accessing all OSI SAF sea ice products from FTP server</a>&nbsp;&nbsp;&nbsp;&nbsp;&nbsp;<a href=\"./1_1c_OSI_SAF_sea_ice_Copernicus_marine_data_access.ipynb\" target=\"_blank\"> Accessing OSI SAF sea ice products from Copernicus Marine Data store >></a>"
   ]
  },
  {
   "cell_type": "markdown",
   "metadata": {},
   "source": [
    "<font color=\"#138D75\">**EUMETSAT OSI SAF Training Service**</font> <br>\n",
    "**Copyright:** 2024 EUMETSAT <br>\n",
    "**License:** MIT"
   ]
  },
  {
   "cell_type": "markdown",
   "metadata": {},
   "source": [
    "<html>\n",
    "  <div style=\"width:100%\">\n",
    "    <div style=\"float:left\"><a href=\"https://mybinder.org/v2/git/https%3A%2F%2Fgitlab.eumetsat.int%2Feumetlab%2Foceans%2Focean-training%2Fsensors%2Flearn-osi-saf-sea-ice/HEAD?urlpath=%2Ftree%2F1_OSI_SAF_sea_ice_introductory%2F1_1_OSI_SAF_sea_ice_FTP_data_access.ipynb\"><img src=\"https://mybinder.org/badge_logo.svg\" alt=\"Open in Binder\"></a></div>\n",
    "    <div style=\"float:left\"><p>&emsp;</p></div>\n",
    "  </div>\n",
    "</html>"
   ]
  },
  {
   "cell_type": "markdown",
   "metadata": {
    "tags": []
   },
   "source": [
    "<div class=\"alert alert-block alert-success\">\n",
    "<h3>Learn OSI SAF sea ice parameters : Introductory</h3></div>"
   ]
  },
  {
   "cell_type": "markdown",
   "metadata": {},
   "source": [
    "<div class=\"alert alert-block alert-warning\">\n",
    "    \n",
    "<b>PREREQUISITES </b>\n",
    "    \n",
    "This notebook has the following prerequisites:\n",
    "- **<a href=\"https://cds.climate.copernicus.eu/user/login?destination=%2F%23!%2Fhome\" target=\"_blank\">A COPERNICUS MARINE SERVICE account</a>** if you are using or plan to use the Copernicus Climate change data.\n",
    "\n",
    "There are no prerequisite notebooks for this module.\n",
    "</div>\n",
    "<hr>"
   ]
  },
  {
   "cell_type": "markdown",
   "metadata": {
    "tags": []
   },
   "source": [
    "# 1.1b Accessing all OSI SAF sea ice products from Copernicus Climate Change service\n",
    "### Data used \n",
    "\n",
    "| Dataset | EUMETSAT collection ID | OSI SAF website description | OSI SAF identifier |\n",
    "|:-----------------:|:-----------------:|:-----------------:|:-----------------:|\n",
    "| Global Sea Ice Concentration interim climate data record, release 3 | EO:EUM:DAT:0645 | <a href=\"https://osi-saf.eumetsat.int/products/osi-430-a\" target=\"_blank\">Description</a> | OSI-430-a \n",
    "\n",
    "\n",
    "### Learning outcomes\n",
    "\n",
    "At the end of this notebook you will know;\n",
    "* How to download OSI SAF Sea Ice Products using Copernicus Climate change data access\n",
    "\n",
    "### Outline\n",
    "\n",
    "Data from OSI SAF is available through multiple sources. Here we will guide you through  Copernicus Climate change data acces to OSI SAF Sea Ice Data.\n",
    "\n",
    "<div class=\"alert alert-info\" role=\"alert\">\n",
    "\n",
    "## <a id='TOC-TOP'></a>Contents\n",
    "\n",
    "</div>\n",
    "    \n",
    " 1. [Creating our workspace](#section1)\n",
    " 1. [Setting login information](#section2)\n",
    " 1. [Downloading via FTP requests](#section3)\n",
    "\n",
    "<hr>"
   ]
  },
  {
   "cell_type": "markdown",
   "metadata": {},
   "source": [
    "<div class=\"alert alert-info\" role=\"alert\">\n",
    "\n",
    "## <a id='section1'></a>1. Creating the workspace\n",
    "[Back to top](#TOC-TOP)\n",
    "\n",
    "</div>\n",
    "\n",
    "We begin by importing all of the libraries that we need to run this notebook. If you have built your python using the environment file provided in this repository, then you should have everything you need. For more information on building environment, please see the repository **<a href=\"../README.md\" target=\"_blank\">README</a>**."
   ]
  },
  {
   "cell_type": "code",
   "execution_count": 1,
   "metadata": {},
   "outputs": [],
   "source": [
    "# library imports \n",
    "import os           # a library that allows to access to basic operating system commands like making directories\n",
    "import cdsapi       # a library that allows to access to climate data store\n",
    "import zipfile      # a library that allow us to work with zip file"
   ]
  },
  {
   "cell_type": "markdown",
   "metadata": {},
   "source": [
    "Next we will create a download directory to store the products we will download in this notebook."
   ]
  },
  {
   "cell_type": "code",
   "execution_count": 2,
   "metadata": {},
   "outputs": [],
   "source": [
    "download_dir = os.path.join(os.getcwd(), \"products\", \"sea_ice_conc_interim\", \"nh\")\n",
    "os.makedirs(download_dir, exist_ok=True)"
   ]
  },
  {
   "cell_type": "markdown",
   "metadata": {},
   "source": [
    "<div class=\"alert alert-info\" role=\"alert\">\n",
    "\n",
    "## <a id='section2'></a>2. Setting Username and Password\n",
    "[Back to top](#TOC-TOP)\n",
    "\n",
    "</div>\n",
    "\n",
    "In order to allow us to download data, we need to provide our credentials. We can do this in two ways; either by creating a file called `.cdsapi` in our home directory.\n",
    "\n",
    "For most computer systems the home directory can be found at the path \\user\\username, /users/username, or /home/username depending on your operating system.\n",
    "\n",
    "In this file we need to add the following information exactly as follows;\n",
    "\n",
    "```\n",
    "url: https://cds.climate.copernicus.eu/api/v2\n",
    "key: <UID>:<APIKEY>\n",
    "```\n",
    "\n",
    "You must replace `<UID>` and `<APIKEY>` with the information provided in your user profile. \n",
    "\n",
    "Make sure to save the file without any kind of extension.\n",
    "\n",
    "Once you have done this, you can read in your credentials using the commands in the following cell. These will be used to generate a time-limited token, which will refresh itself when it expires."
   ]
  },
  {
   "cell_type": "markdown",
   "metadata": {},
   "source": [
    "Reading credential information"
   ]
  },
  {
   "cell_type": "code",
   "execution_count": 3,
   "metadata": {},
   "outputs": [],
   "source": [
    "c = cdsapi.Client()"
   ]
  },
  {
   "cell_type": "markdown",
   "metadata": {},
   "source": [
    "<div class=\"alert alert-info\" role=\"alert\">\n",
    "\n",
    "## <a id='section3'></a>3. Launch a request\n",
    "[Back to top](#TOC-TOP)\n",
    "\n",
    "</div>"
   ]
  },
  {
   "cell_type": "markdown",
   "metadata": {},
   "source": [
    "From the copenicus climate change data access website, you can choose the products you want to visualize. For example the osi saf sea ice product : Sea ice concentration daily gridded data from 1979 to present derived from satellite observations.\n",
    "Then, you can select the region, the date, ... At the end a API request will be provide and you can paste it (see the following code)."
   ]
  },
  {
   "cell_type": "code",
   "execution_count": 4,
   "metadata": {},
   "outputs": [
    {
     "name": "stderr",
     "output_type": "stream",
     "text": [
      "2024-03-04 11:48:57,469 INFO Welcome to the CDS\n",
      "2024-03-04 11:48:57,470 INFO Sending request to https://cds.climate.copernicus.eu/api/v2/resources/satellite-sea-ice-concentration\n",
      "2024-03-04 11:48:57,558 INFO Request is completed\n",
      "2024-03-04 11:48:57,559 INFO Downloading https://download-0007-clone.copernicus-climate.eu/cache-compute-0007/cache/data5/dataset-satellite-sea-ice-concentration-85d95509-8dcf-43dc-bb1b-454723b14811.zip to /Users/benloveday/Desktop/CMTS_TEST/learn-osi-saf-sea-ice/1_OSI_SAF_sea_ice_introductory/products/sea_ice_conc_interim/nh/download.zip (1.2M)\n",
      "2024-03-04 11:48:58,000 INFO Download rate 2.7M/s                                                                                                                \n"
     ]
    },
    {
     "data": {
      "text/plain": [
       "Result(content_length=1244970,content_type=application/zip,location=https://download-0007-clone.copernicus-climate.eu/cache-compute-0007/cache/data5/dataset-satellite-sea-ice-concentration-85d95509-8dcf-43dc-bb1b-454723b14811.zip)"
      ]
     },
     "execution_count": 4,
     "metadata": {},
     "output_type": "execute_result"
    }
   ],
   "source": [
    "c.retrieve(\n",
    "    'satellite-sea-ice-concentration',\n",
    "    {\n",
    "        'version': 'v2',\n",
    "        'variable': 'all',\n",
    "        'format': 'zip',\n",
    "        'origin': 'eumetsat_osi_saf',\n",
    "        'region': 'northern_hemisphere',\n",
    "        'cdr_type': 'icdr',\n",
    "        'year': '2023',\n",
    "        'month': '04',\n",
    "        'day': '30',\n",
    "    },\n",
    "    download_dir + '/download.zip')"
   ]
  },
  {
   "cell_type": "markdown",
   "metadata": {},
   "source": [
    "We need to unzip the files"
   ]
  },
  {
   "cell_type": "code",
   "execution_count": 6,
   "metadata": {},
   "outputs": [],
   "source": [
    "with zipfile.ZipFile(os.path.join(download_dir, 'download.zip'), 'r') as zip:\n",
    "    zip.extractall(download_dir)"
   ]
  },
  {
   "cell_type": "markdown",
   "metadata": {
    "tags": []
   },
   "source": [
    "<hr>\n",
    "<a href=\"../Index.ipynb\" target=\"_blank\"><< Index</a>\n",
    "<br>\n",
    "<a href=\"./1_1a_OSI_SAF_sea_ice_FTP_data_access.ipynb\" target=\"_blank\"><< Accessing all OSI SAF sea ice products from FTP server</a>&nbsp;&nbsp;&nbsp;&nbsp;&nbsp;<a href=\"./1_1c_OSI_SAF_sea_ice_Copernicus_marine_data_access.ipynb\" target=\"_blank\"> Accessing OSI SAF sea ice products from Copernicus Marine Data store >></a>\n",
    "<hr>\n",
    "<a href=\"https://gitlab.eumetsat.int/eumetlab/ocean\">View on GitLab</a> | <a href=\"https://training.eumetsat.int/\">EUMETSAT Training</a> | <a href=mailto:ops@eumetsat.int>Contact helpdesk for support </a> | <a href=mailto:training@eumetsat.int>Contact our training team to collaborate on and reuse this material</a></span></p>"
   ]
  }
 ],
 "metadata": {
  "author": "Olivier Membrive, Cecile Hernandez, Steinar Eastwood, Signe Aaboe, Thomas Lavergne, Stephane Saux Picart, Ben Loveday, Hayley Evers-King, Gwenael Le Bras",
  "content_type": "Software & code",
  "data_access": "C3S",
  "deployment": {
   "eumetsat": {
    "binder": {
     "link": "https://mybinder.org/v2/git/https%3A%2F%2Fgitlab.eumetsat.int%2Feumetlab%2Foceans%2Focean-training%2Fsensors%2Flearn-osi-saf-sea-ice/HEAD?urlpath=%2Ftree%2F1_OSI_SAF_sea_ice_introductory%2F1_1b_OSI_SAF_sea_ice_C3S_data_access.ipynb",
     "service_contact": "ops@eumetsat.int",
     "service_provider": "EUMETSAT"
    },
    "git": {
     "link": "https://gitlab.eumetsat.int/eumetlab/oceans/ocean-training/sensors/learn-osi-saf-sea-ice/-/blob/main/1_OSI_SAF_wind_sea_ice_introductory/1_1b_OSI_SAF_sea_ice_C3S_data_access.ipynb",
     "service_contact": "ops@eumetsat.int",
     "service_provider": "EUMETSAT"
    }
   },
   "wekeo": {
    "git": {
     "link": " ",
     "service_contact": "ops@eumetsat.int",
     "service_provider": "EUMETSAT"
    },
    "url": {
     "link": " ",
     "service_contact": "ops@eumetsat.int",
     "service_provider": "EUMETSAT"
    }
   }
  },
  "description": "This Jupyter Notebook shows how to access OSI SAF sea ice data via FTP.",
  "image": "../img/thumbs/1_1b_OSI_SAF_sea_ice_C3S_data_access_thumb.png",
  "kernelspec": {
   "display_name": "Python 3 (ipykernel)",
   "language": "python",
   "name": "python3"
  },
  "language_info": {
   "codemirror_mode": {
    "name": "ipython",
    "version": "3"
   },
   "file_extension": ".py",
   "mimetype": "text/x-python",
   "name": "python",
   "nbconvert_exporter": "python",
   "pygments_lexer": "ipython3",
   "version": "03.10.14"
  },
  "license": "MIT",
  "metadata_schema_version": "2.0.0",
  "originator": "EUMETSAT",
  "tags": {
   "data_provider": "EUMETSAT",
   "orbit": " ",
   "satellite": "DMSP",
   "sensor": "SSMIS (DMSP)",
   "service": "",
   "subtheme": [
    "Climate system monitoring - Ocean",
    "Ocean dynamics"
   ],
   "theme": "Marine",
   "variable": "Sea ice concentration"
  },
  "title": "Accessing OSI SAF sea ice products via FTP server",
  "version": "2.0.0",
  "version_date": "01.07.24"
 },
 "nbformat": 4,
 "nbformat_minor": 4
}
