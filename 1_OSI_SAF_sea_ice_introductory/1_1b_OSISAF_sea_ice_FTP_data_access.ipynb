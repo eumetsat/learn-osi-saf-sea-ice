{
 "cells": [
  {
   "cell_type": "markdown",
   "metadata": {},
   "source": [
    "<img src='https://gitlab.eumetsat.int/eumetlab/oceans/ocean-training/tools/frameworks/-/raw/main/img/OSI-SAF_banner.png' align='right' width='100%'/>"
   ]
  },
  {
   "cell_type": "markdown",
   "metadata": {},
   "source": [
    "<a href=\"../Index.ipynb\" target=\"_blank\"><< Index</a>\n",
    "<br>\n",
    "<a href=\"./1_?_link_to_prev_notebook.ipynb\" target=\"_blank\"><< PREV NOTEBOOK</a>&nbsp;&nbsp;&nbsp;&nbsp;&nbsp;<a href=\"./1_?_link_to_next_notebook.ipynb\" target=\"_blank\">NEXT NOTEBOOK >></a>"
   ]
  },
  {
   "cell_type": "markdown",
   "metadata": {},
   "source": [
    "<font color=\"#138D75\">**EUMETSAT OSI SAF Training Service**</font> <br>\n",
    "**Copyright:** 2022 EUMETSAT <br>\n",
    "**License:** MIT"
   ]
  },
  {
   "cell_type": "markdown",
   "metadata": {},
   "source": [
    "<div class=\"alert alert-block alert-success\">\n",
    "<h3>Learn OSI SAF sea ice parameters : Introductory</h3></div>"
   ]
  },
  {
   "cell_type": "markdown",
   "metadata": {},
   "source": [
    "<div class=\"alert alert-block alert-warning\">\n",
    "    \n",
    "<b>PREREQUISITES </b>\n",
    "    \n",
    "This notebook has the following prerequisites:\n",
    "- **COMPLETE WITH ANY PRE-REQUISITES (e.g. account access), IF ANY**\n",
    "\n",
    "There are no prerequisite notebooks for this module.\n",
    "- **COMPLETE WITH ANY PRE-REQUISITE NOTEBOOKS, IF ANY**\n",
    "    \n",
    "</div>\n",
    "<hr>"
   ]
  },
  {
   "cell_type": "markdown",
   "metadata": {},
   "source": [
    "# 1.1 Access Sea Ice Parameters - OSI SAF HL FTP\n",
    "### Data used \n",
    "\n",
    "| Product Description | Product Navigator | OSI SAF website link | OSI SAF Identifier |\n",
    "|:--------------------:|:-------------:|:-----------------:|:-----------------:|\n",
    "|  |  |  |  | \n",
    "\n",
    "\n",
    "\n",
    "### Learning outcomes\n",
    "\n",
    "At the end of this notebook you will know;\n",
    "* How to download different OSI SAF Sea Ice Products\n",
    "\n",
    "### Outline\n",
    "\n",
    "Each product includes:\n",
    "\n",
    "* measurement data files (NetCDF-4 format)\n",
    "\n",
    "<div class=\"alert alert-info\" role=\"alert\">\n",
    "\n",
    "## <a id='TOC_TOP'></a>Contents\n",
    "\n",
    "</div>\n",
    "\n",
    " 1. [Pre-setting parameters](#section1)\n",
    " 1. [Importing Met.no credentials](#section2)\n",
    " 1. [Launching FTP requests](#section3)\n",
    "\n",
    "<hr>"
   ]
  },
  {
   "cell_type": "code",
   "execution_count": 1,
   "metadata": {},
   "outputs": [],
   "source": [
    "# library imports \n",
    "import ftplib\n",
    "import shutil\n",
    "import json\n",
    "import os\n",
    "import warnings\n",
    "warnings.filterwarnings('ignore')"
   ]
  },
  {
   "cell_type": "markdown",
   "metadata": {},
   "source": [
    "<div class=\"alert alert-info\" role=\"alert\">\n",
    "\n",
    "## <a id='section1'></a>1. Pre-setting parameters\n",
    "[Back to top](#TOC_TOP)\n",
    "\n",
    "</div>"
   ]
  },
  {
   "cell_type": "markdown",
   "metadata": {},
   "source": [
    "<div class=\"alert alert-info\" role=\"alert\">\n",
    "\n",
    "## <a id='section2'></a>2. Importing Met.no credentials\n",
    "[Back to top](#TOC_TOP)\n",
    "\n",
    "</div>"
   ]
  },
  {
   "cell_type": "markdown",
   "metadata": {},
   "source": [
    "Setting connection information"
   ]
  },
  {
   "cell_type": "markdown",
   "metadata": {},
   "source": [
    "In order to access sea-ice data from the Norwegian Meteorological Institute (Met.no) server you will need to supply access credentials in the form of a username. However Met.no only provide guest access, so the username is \"anonymous\" and no password is required. We can pass these credentials to this notebook in two ways; either by creating a file called `.osisaf_credentials` in our home directory (*option 1 - recommended*) or by supplying our credentials directly in this script (*option 2*). \n",
    "\n",
    "<div class=\"alert alert-block alert-success\">\n",
    "\n",
    "#### Option 1: creating `.osisaf_credentials` in your home directory\n",
    "\n",
    "For most computer systems the home directory can be found at the path \\user\\username, /users/username, or /home/username depending on your operating system. In this file we need to add the following information as follows;\n",
    "\n",
    "```\n",
    "{\"metno_ftp\":\n",
    "    {\"username\": \"anonymous\"\n",
    "}\n",
    "```\n",
    "\n",
    "Once you have done this, you can read in your credentials using the commands in the following cell with `file_credentials = True`.\n",
    "    \n",
    "</div>\n",
    "    \n",
    "<div class=\"alert alert-danger\" role=\"alert\">\n",
    "\n",
    "#### Option 2: Entering credentials directly by entering your credentials in the notebook as follows*\n",
    "   \n",
    "Alternatively you can enter your credentials directly in the notebook by updating the following lines with your user specific information and setting `file_credentials = False`.\n",
    "\n",
    "```\n",
    "    credentials[\"username\"] = \"anonymous\"\n",
    "```\n",
    "\n",
    "However, while this method is convenient in the short term, it requires you to authenticate on a notebook-by-notebook basis.\n",
    "    \n",
    "<div>"
   ]
  },
  {
   "cell_type": "code",
   "execution_count": 2,
   "metadata": {},
   "outputs": [],
   "source": [
    "# load credentials\n",
    "file_credentials = True\n",
    "\n",
    "if file_credentials == True:\n",
    "    with open(os.path.join(os.path.expanduser(\"~\"),'.osisaf_credentials')) as json_file:\n",
    "        file = json.load(json_file)\n",
    "        credentials = file[\"metno_ftp\"]\n",
    "else:\n",
    "    # see below for more information\n",
    "    credentials = {}\n",
    "    credentials[\"username\"] = \"anonymous\""
   ]
  },
  {
   "cell_type": "markdown",
   "metadata": {},
   "source": [
    "<div class=\"alert alert-info\" role=\"alert\">\n",
    "\n",
    "## <a id='section3'></a>3. Launching FTP requests\n",
    "[Back to top](#TOC_TOP)\n",
    "\n",
    "</div>"
   ]
  },
  {
   "cell_type": "code",
   "execution_count": 3,
   "metadata": {},
   "outputs": [],
   "source": [
    "ftp_url = 'osisaf.met.no'"
   ]
  },
  {
   "cell_type": "markdown",
   "metadata": {},
   "source": [
    "ice concentration northern hemisphere"
   ]
  },
  {
   "cell_type": "code",
   "execution_count": 4,
   "metadata": {},
   "outputs": [],
   "source": [
    "path = '/prod/ice/conc/'\n",
    "filename = 'ice_conc_nh_polstere-100_multi_202209011200.nc'"
   ]
  },
  {
   "cell_type": "markdown",
   "metadata": {},
   "source": [
    "ice concentration southern hemisphere"
   ]
  },
  {
   "cell_type": "code",
   "execution_count": 5,
   "metadata": {},
   "outputs": [],
   "source": [
    "path = '/prod/ice/conc/'\n",
    "filename = 'ice_conc_sh_polstere-100_multi_202209011200.nc'"
   ]
  },
  {
   "cell_type": "code",
   "execution_count": 6,
   "metadata": {},
   "outputs": [
    {
     "data": {
      "text/plain": [
       "'221 Goodbye.'"
      ]
     },
     "execution_count": 6,
     "metadata": {},
     "output_type": "execute_result"
    }
   ],
   "source": [
    "# connect ftp and download file\n",
    "ftp = ftplib.FTP(ftp_url) \n",
    "ftp.login(credentials[\"username\"])\n",
    "ftp.cwd(path)\n",
    "ftp.retrbinary(\"RETR \" + filename, open('data/sea_ice_concentration/sh/' + filename, 'wb').write)\n",
    "ftp.quit()"
   ]
  },
  {
   "cell_type": "markdown",
   "metadata": {},
   "source": [
    "ice type northern hemisphere"
   ]
  },
  {
   "cell_type": "code",
   "execution_count": 7,
   "metadata": {},
   "outputs": [],
   "source": [
    "path = '/prod/ice/type/'\n",
    "filename = 'ice_type_nh_polstere-100_multi_202209011200.nc'"
   ]
  },
  {
   "cell_type": "code",
   "execution_count": 8,
   "metadata": {},
   "outputs": [
    {
     "data": {
      "text/plain": [
       "'221 Goodbye.'"
      ]
     },
     "execution_count": 8,
     "metadata": {},
     "output_type": "execute_result"
    }
   ],
   "source": [
    "# connect ftp and download file\n",
    "ftp = ftplib.FTP(ftp_url) \n",
    "ftp.login(credentials[\"username\"])\n",
    "ftp.cwd(path)\n",
    "ftp.retrbinary(\"RETR \" + filename, open('data/sea_ice_type/nh/' + filename, 'wb').write)\n",
    "ftp.quit()"
   ]
  },
  {
   "cell_type": "markdown",
   "metadata": {},
   "source": [
    "ice type southern hemisphere"
   ]
  },
  {
   "cell_type": "code",
   "execution_count": 9,
   "metadata": {},
   "outputs": [],
   "source": [
    "path = '/prod/ice/type/'\n",
    "filename = 'ice_type_sh_polstere-100_multi_202209011200.nc'"
   ]
  },
  {
   "cell_type": "code",
   "execution_count": 10,
   "metadata": {},
   "outputs": [
    {
     "data": {
      "text/plain": [
       "'221 Goodbye.'"
      ]
     },
     "execution_count": 10,
     "metadata": {},
     "output_type": "execute_result"
    }
   ],
   "source": [
    "# connect ftp and download file\n",
    "ftp = ftplib.FTP(ftp_url) \n",
    "ftp.login(credentials[\"username\"])\n",
    "ftp.cwd(path)\n",
    "ftp.retrbinary(\"RETR \" + filename, open('data/sea_ice_type/sh/' + filename, 'wb').write)\n",
    "ftp.quit()"
   ]
  },
  {
   "cell_type": "markdown",
   "metadata": {},
   "source": [
    "ice edge northern hemisphere"
   ]
  },
  {
   "cell_type": "code",
   "execution_count": 11,
   "metadata": {},
   "outputs": [],
   "source": [
    "path = '/prod/ice/edge/'\n",
    "filename = 'ice_edge_nh_polstere-100_multi_202209011200.nc'"
   ]
  },
  {
   "cell_type": "code",
   "execution_count": 12,
   "metadata": {},
   "outputs": [
    {
     "data": {
      "text/plain": [
       "'221 Goodbye.'"
      ]
     },
     "execution_count": 12,
     "metadata": {},
     "output_type": "execute_result"
    }
   ],
   "source": [
    "# connect ftp and download file\n",
    "ftp = ftplib.FTP(ftp_url) \n",
    "ftp.login(credentials[\"username\"])\n",
    "ftp.cwd(path)\n",
    "ftp.retrbinary(\"RETR \" + filename, open('data/sea_ice_edge/nh/' + filename, 'wb').write)\n",
    "ftp.quit()"
   ]
  },
  {
   "cell_type": "markdown",
   "metadata": {},
   "source": [
    "ice edge southern hemisphere"
   ]
  },
  {
   "cell_type": "code",
   "execution_count": 13,
   "metadata": {},
   "outputs": [],
   "source": [
    "path = '/prod/ice/edge/'\n",
    "filename = 'ice_edge_sh_polstere-100_multi_202209011200.nc'"
   ]
  },
  {
   "cell_type": "code",
   "execution_count": 14,
   "metadata": {},
   "outputs": [
    {
     "data": {
      "text/plain": [
       "'221 Goodbye.'"
      ]
     },
     "execution_count": 14,
     "metadata": {},
     "output_type": "execute_result"
    }
   ],
   "source": [
    "# connect ftp and download file\n",
    "ftp = ftplib.FTP(ftp_url) \n",
    "ftp.login(credentials[\"username\"])\n",
    "ftp.cwd(path)\n",
    "ftp.retrbinary(\"RETR \" + filename, open('data/sea_ice_edge/sh/' + filename, 'wb').write)\n",
    "ftp.quit()"
   ]
  },
  {
   "cell_type": "markdown",
   "metadata": {},
   "source": [
    "ice drift (only northern hemisphere)"
   ]
  },
  {
   "cell_type": "code",
   "execution_count": 15,
   "metadata": {},
   "outputs": [],
   "source": [
    "path = '/prod/ice/drift_lr/merged'\n",
    "filename = 'ice_drift_sh_polstere-625_multi-oi_202208301200-202209011200.nc'"
   ]
  },
  {
   "cell_type": "code",
   "execution_count": 16,
   "metadata": {},
   "outputs": [
    {
     "data": {
      "text/plain": [
       "'221 Goodbye.'"
      ]
     },
     "execution_count": 16,
     "metadata": {},
     "output_type": "execute_result"
    }
   ],
   "source": [
    "# connect ftp and download file\n",
    "ftp = ftplib.FTP(ftp_url) \n",
    "ftp.login(credentials[\"username\"])\n",
    "ftp.cwd(path)\n",
    "ftp.retrbinary(\"RETR \" + filename, open('data/sea_ice_drift/' + filename, 'wb').write)\n",
    "ftp.quit()"
   ]
  },
  {
   "cell_type": "markdown",
   "metadata": {},
   "source": [
    "<hr>\n",
    "<a href=\"../Index.ipynb\" target=\"_blank\"><< Index</a>\n",
    "<br>\n",
    "<a href=\"./1_?_link_to_prev_notebook.ipynb\" target=\"_blank\"><< PREV NOTEBOOK</a>&nbsp;&nbsp;&nbsp;&nbsp;&nbsp;<a href=\"./1_?_link_to_next_notebook.ipynb\" target=\"_blank\">NEXT NOTEBOOK >></a>\n",
    "<hr>\n",
    "<a href=\"https://gitlab.eumetsat.int/eumetlab/ocean\">View on GitLab</a> | <a href=\"https://training.eumetsat.int/\">EUMETSAT Training</a> | <a href=mailto:ops@eumetsat.int>Contact helpdesk for support </a> | <a href=mailto:Copernicus.training@eumetsat.int>Contact our training team to collaborate on and reuse this material</a></span></p>"
   ]
  }
 ],
 "metadata": {
  "author": "Ben Loveday, Hayley Evers-King",
  "description": "This Jupyter Notebook covers the file structure of OLCI level-1B and level-2 products.",
  "github": "https://github.com/wekeo/learn-olci/blob/main/1_OLCI_introductory/1_2_OLCI_file_structure.ipynb",
  "image": "../img/thumbs/1_2_OLCI_file_structure_thumb.png",
  "kernelspec": {
   "display_name": "Python 3 (ipykernel)",
   "language": "python",
   "name": "python3"
  },
  "language_info": {
   "codemirror_mode": {
    "name": "ipython",
    "version": 3
   },
   "file_extension": ".py",
   "mimetype": "text/x-python",
   "name": "python",
   "nbconvert_exporter": "python",
   "pygments_lexer": "ipython3",
   "version": "3.9.13"
  },
  "link": "https://jupyterhub-wekeo.apps.eumetsat.dpi.wekeo.eu/hub/user-redirect/lab/tree/public/ocean/learn-olci/1_OLCI_introductory/1_2_OLCI_file_structure.ipynb",
  "tags": {
   "domain": "Ocean",
   "platform": "Sentinel-3",
   "sensor": "OLCI",
   "tags": [
    "Top-of-atmosphere radiance",
    "Water leaving reflectance",
    "Ocean colour"
   ]
  },
  "title": "OLCI file structure"
 },
 "nbformat": 4,
 "nbformat_minor": 2
}
