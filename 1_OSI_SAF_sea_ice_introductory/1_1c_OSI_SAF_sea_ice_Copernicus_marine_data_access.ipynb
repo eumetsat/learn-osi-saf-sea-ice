{
 "cells": [
  {
   "cell_type": "markdown",
   "metadata": {},
   "source": [
    "<img src='https://gitlab.eumetsat.int/eumetlab/oceans/ocean-training/tools/frameworks/-/raw/main/img/OSI-SAF_banner.png' align='right' width='100%'/>"
   ]
  },
  {
   "cell_type": "markdown",
   "metadata": {},
   "source": [
    "<a href=\"../Index.ipynb\" target=\"_blank\"><< Index</a>\n",
    "<br>\n",
    "<a href=\"./1_1b_OSI_SAF_sea_ice_C3S_data_access.ipynb\" target=\"_blank\"><< Accessing OSI SAF sea ice products from C3S Data store</a>&nbsp;&nbsp;&nbsp;&nbsp;&nbsp;<a href=\"./1_2_OSI_SAF_sea_ice_file_structure.ipynb\" target=\"_blank\">Exploring OSI SAF sea ice file structure >></a>"
   ]
  },
  {
   "cell_type": "markdown",
   "metadata": {},
   "source": [
    "<font color=\"#138D75\">**EUMETSAT OSI SAF Training Service**</font> <br>\n",
    "**Copyright:** 2024 EUMETSAT <br>\n",
    "**License:** MIT"
   ]
  },
  {
   "cell_type": "markdown",
   "metadata": {},
   "source": [
    "<html>\n",
    "  <div style=\"width:100%\">\n",
    "    <div style=\"float:left\"><a href=\"https://mybinder.org/v2/git/https%3A%2F%2Fgitlab.eumetsat.int%2Feumetlab%2Foceans%2Focean-training%2Fsensors%2Flearn-osi-saf-sea-ice/HEAD?labpath=1_OSI_SAF_sea_ice_introductory%2F1_1_OSI_SAF_sea_ice_FTP_data_access.ipynb\"><img src=\"https://mybinder.org/badge_logo.svg\" alt=\"Open in Binder\"></a></div>\n",
    "    <div style=\"float:left\"><p>&emsp;</p></div>\n",
    "  </div>\n",
    "</html>"
   ]
  },
  {
   "cell_type": "markdown",
   "metadata": {
    "tags": []
   },
   "source": [
    "<div class=\"alert alert-block alert-success\">\n",
    "<h3>Learn OSI SAF sea ice parameters : Introductory</h3></div>"
   ]
  },
  {
   "cell_type": "markdown",
   "metadata": {},
   "source": [
    "<div class=\"alert alert-block alert-warning\">\n",
    "    \n",
    "<b>PREREQUISITES </b>\n",
    "    \n",
    "This notebook has the following prerequisites:\n",
    "- **<a href=\"https://data.marine.copernicus.eu/register\" target=\"_blank\">A COPERNICUS MARINE SERVICE account</a>** if you are using or plan to use the Cpernicus Marine data.\n",
    "\n",
    "There are no prerequisite notebooks for this module.\n",
    "</div>\n",
    "<hr>"
   ]
  },
  {
   "cell_type": "markdown",
   "metadata": {
    "tags": []
   },
   "source": [
    "# 1.1b Accessing all OSI SAF sea ice products from Copernicus Marine Data service\n",
    "### Data used \n",
    "\n",
    "| Dataset | EUMETSAT collection ID | OSI SAF website description | OSI SAF identifier |\n",
    "|:-----------------:|:-----------------:|:-----------------:|:-----------------:|\n",
    "| Global Sea Ice Concentration (SSMIS) | EO:EUM:DAT:DMSP:OSI-401-B | <a href=\"https://osi-saf.eumetsat.int/products/osi-401-b\" target=\"_blank\">Description</a>   | OSI-401-B |\n",
    "| Global Sea Ice Edge | EO:EUM:DAT:MULT:OSIEDGBN | <a href=\"https://osi-saf.eumetsat.int/products/osi-402-d\" target=\"_blank\">Description</a> | OSI-402-d | \n",
    "| Global Sea Ice Type | EO:EUM:DAT:MULT:OSITYGBN | <a href=\"https://osi-saf.eumetsat.int/products/osi-403-d\" target=\"_blank\">Description</a> | OSI-403-d | \n",
    "| Global Sea Ice Emissivity | EO:EUM:DAT:DMSP:SISE50 | <a href=\"https://osi-saf.eumetsat.int/products/osi-404-a\" target=\"_blank\">Description</a> | OSI-404-a | \n",
    "| Global Low Resolution Sea Ice Drift | EO:EUM:DAT:MULT:GBL-LR-SIDR | <a href=\"https://osi-saf.eumetsat.int/products/osi-405-c\" target=\"_blank\">Description</a> | OSI-405-c | \n",
    "| Medium Resolution Sea Ice Drift | EO:EUM:DAT:METOP:NH-MR-SID | <a href=\"https://osi-saf.eumetsat.int/products/osi-407-a\" target=\"_blank\">Description</a> | OSI-407-a | \n",
    "| Global Sea Ice Concentration (AMSR-2) | EO:EUM:DAT:GCOM:OSI-408 | <a href=\"https://osi-saf.eumetsat.int/products/osi-408-a\" target=\"_blank\">Description</a> | OSI-408-a | \n",
    "| Level 2 PMW sea ice concentration | - | <a href=\"https://osi-saf.eumetsat.int/products/osi-410-a\" target=\"_blank\">Description</a> | OSI-410-a | \n",
    "| Global Sea Ice Concentration interim climate data record, release 3 | EO:EUM:DAT:0645 | <a href=\"https://osi-saf.eumetsat.int/products/osi-430-a\" target=\"_blank\">Description</a> | OSI-430-a \n",
    "| Global Sea Ice Concentration climate data record (SMMR/SSMI/SSMIS), release 3 | EO:EUM:DAT:0826 | <a href=\"https://osi-saf.eumetsat.int/products/osi-450-a\" target=\"_blank\">Description</a> | OSI-450-a \n",
    "| Global Sea Ice Concentration climate data record (AMSR), release 3 | EO:EUM:DAT:0797 | <a href=\"https://osi-saf.eumetsat.int/products/osi-458\" target=\"_blank\">Description</a> | OSI-458 \n",
    "| Sea ice index | - | <a href=\"https://osi-saf.eumetsat.int/products/osi-420\" target=\"_blank\">Description</a> | OSI-420 \n",
    "\n",
    "### Learning outcomes\n",
    "\n",
    "At the end of this notebook you will know;\n",
    "* How to download different OSI SAF Sea Ice Products using FTP access\n",
    "\n",
    "### Outline\n",
    "\n",
    "Data from OSI SAF is available through multiple sources. Here we will guide you through FTP access to OSI SAF Sea Ice Data.\n",
    "\n",
    "<div class=\"alert alert-info\" role=\"alert\">\n",
    "\n",
    "## <a id='TOC-TOP'></a>Contents\n",
    "\n",
    "</div>\n",
    "    \n",
    " 1. [Creating our workspace](#section1)\n",
    " 1. [Setting login information](#section2)\n",
    " 1. [Downloading via FTP requests](#section3)\n",
    "\n",
    "<hr>"
   ]
  },
  {
   "cell_type": "markdown",
   "metadata": {},
   "source": [
    "<div class=\"alert alert-info\" role=\"alert\">\n",
    "\n",
    "## <a id='section1'></a>1. Creating the workspace\n",
    "[Back to top](#TOC-TOP)\n",
    "\n",
    "</div>\n",
    "\n",
    "We begin by importing all of the libraries that we need to run this notebook. If you have built your python using the environment file provided in this repository, then you should have everything you need. For more information on building environment, please see the repository **<a href=\"../README.md\" target=\"_blank\">README</a>**."
   ]
  },
  {
   "cell_type": "code",
   "execution_count": 1,
   "metadata": {},
   "outputs": [],
   "source": [
    "# library imports \n",
    "import os           # a library that allows to access to basic operating system commands like making directories\n",
    "import json         # a library that helps with JSON format files\n",
    "import ftplib       # a library that allows to handle ftp requests"
   ]
  },
  {
   "cell_type": "markdown",
   "metadata": {},
   "source": [
    "Next we will create a download directory to store the products we will download in this notebook."
   ]
  },
  {
   "cell_type": "code",
   "execution_count": 2,
   "metadata": {},
   "outputs": [],
   "source": [
    "import lxml.html\n",
    "import requests as rq\n",
    "\n",
    "def copernicus_marine_login(url, user, pwd):\n",
    "    \"\"\"\n",
    "    Open a connection to Copernicus Marine CAS with user credentials.\n",
    "\n",
    "    Parameters\n",
    "    ----------\n",
    "    username : str\n",
    "        Copernicus Marine Username, provided for free from https://marine.copernicus.eu .\n",
    "    password : str\n",
    "        Copernicus Marine Password, provided for free from https://marine.copernicus.eu .\n",
    "\n",
    "    Returns\n",
    "    -------\n",
    "    bool\n",
    "        Returns ``conn_session`` if credentials are correct, ``False`` otherwise.\n",
    "\n",
    "    \"\"\"\n",
    "    params = {'service': url}\n",
    "    cmems_cas_url = 'https://cmems-cas.cls.fr/cas/login'\n",
    "    conn_session = rq.session()\n",
    "    login_session = conn_session.get(cmems_cas_url, params=params)\n",
    "    login_from_html = lxml.html.fromstring(login_session.text)\n",
    "    hidden_elements_from_html = login_from_html.xpath(\n",
    "        '//form//input[@type=\"hidden\"]')\n",
    "    payload = {\n",
    "        he.attrib['name']: he.attrib['value']\n",
    "        for he in hidden_elements_from_html\n",
    "        }\n",
    "    payload['username'] = user\n",
    "    payload['password'] = pwd\n",
    "    conn_session.post(cmems_cas_url, data=payload, params=params)\n",
    "    return conn_session\n",
    "\n",
    "def get_data(url, output_filename, conn_session, csv=False):\n",
    "    if 'productdownload' in url:\n",
    "        url = f'{url}&mode=console'\n",
    "        if csv:\n",
    "            postprocess = True\n",
    "    else:\n",
    "        postprocess = False\n",
    "    req = conn_session.get(url, stream=True)\n",
    "    with open(output_filename,'wb') as of:\n",
    "        for chunk in req.iter_content(chunk_size=1000000):\n",
    "            of.write(chunk)\n",
    "    if postprocess:\n",
    "        try:\n",
    "            from cmemsapi import cmemsapi as cmust\n",
    "        except:\n",
    "            print('Please install cmust if you want to convert to .csv by issuing in your terminal:\\npip install cmemsapi')\n",
    "            raise SystemExit\n",
    "        cmust.to_csv(output_filename, output_filename)\n",
    "    return True"
   ]
  },
  {
   "cell_type": "markdown",
   "metadata": {},
   "source": [
    "<div class=\"alert alert-info\" role=\"alert\">\n",
    "\n",
    "## <a id='section2'></a>2. Setting Username and Password\n",
    "[Back to top](#TOC-TOP)\n",
    "\n",
    "</div>\n",
    "\n",
    "\n",
    "We will access OSI SAF data from the OSI SAF High Latitude Centre FTP server.\n",
    "\n",
    "In order to allow us to download data, we need to provide our credentials. We can do this in two ways; either by creating a file called `.eumetsat_osi_saf_sea_ice_credentials` in our home directory (*option 1 - recommended*) or by supplying our credentials directly in this script (*option 2*). \n",
    "\n",
    "#### Option 1: creating  `.eumetsat_osi_saf_sea_ice_credentials` in our home directory\n",
    "\n",
    "For most computer systems the home directory can be found at the path \\user\\username, /users/username, or /home/username depending on your operating system.\n",
    "\n",
    "In this file we need to add the following information exactly as follows;\n",
    "\n",
    "```\n",
    "{\n",
    "\"username\": \"<provided_username>\",\n",
    "\"password\": \"<provided_password>\"\n",
    "}\n",
    "```\n",
    "\n",
    "You must replace `<provided_username>` and `<provided_password>` with the information provided to you after you have registered to the OSI SAF website and mentionned your interest in Sea Ice data. \n",
    "\n",
    "Once you have created an <a href=\"https://osi-saf.eumetsat.int/register\" target=\"_blank\">EUMETSAT OSI SAF account</a>, the generic password and credentials to access OSI SAF High Latitude server should have been sent to you via email.\n",
    "\n",
    "Make sure to save the file without any kind of extension.\n",
    "\n",
    "Once you have done this, you can read in your credentials using the commands in the following cell. These will be used to generate a time-limited token, which will refresh itself when it expires."
   ]
  },
  {
   "cell_type": "markdown",
   "metadata": {},
   "source": [
    "Reading credential information"
   ]
  },
  {
   "cell_type": "code",
   "execution_count": 3,
   "metadata": {},
   "outputs": [],
   "source": [
    "# read credentials\n",
    "with open(os.path.join(os.path.expanduser(\"~\"),'.eumetsat_osi_saf_sea_ice_credentials')) as json_file:\n",
    "    credentials = json.load(json_file)"
   ]
  },
  {
   "cell_type": "markdown",
   "metadata": {},
   "source": [
    "Loading credentials"
   ]
  },
  {
   "cell_type": "code",
   "execution_count": 4,
   "metadata": {},
   "outputs": [],
   "source": [
    "username = credentials['username'] \n",
    "password = credentials['password']"
   ]
  },
  {
   "cell_type": "markdown",
   "metadata": {},
   "source": [
    "#### Option 2: provide credentials directly\n",
    "\n",
    "You can provide your credentials directly as follows; by uncommenting the following lines. "
   ]
  },
  {
   "cell_type": "code",
   "execution_count": 5,
   "metadata": {},
   "outputs": [],
   "source": [
    "#username = \"<provided_username>\"\n",
    "#password = \"<provided_password>\""
   ]
  },
  {
   "cell_type": "markdown",
   "metadata": {},
   "source": [
    "You must replace `<provided_username>` and `<provided_password>` with the information provided to you after you have registered to the OSI SAF website and mentionned your interest in Sea Ice data. \n",
    "\n",
    "Once you have created an <a href=\"https://osi-saf.eumetsat.int/register\" target=\"_blank\">EUMETSAT OSI SAF account</a>, the generic password and credentials to access OSI SAF High Latitude server should have been sent to you via email.\n",
    "\n",
    "*Note: this method is convenient in the short term, but is not really recommended as you have to put your provided username and password in this notebook, and run the risk of accidentally sharing them. This method also requires you to authenticate on a notebook-by-notebook basis.*"
   ]
  },
  {
   "cell_type": "markdown",
   "metadata": {},
   "source": [
    "<div class=\"alert alert-info\" role=\"alert\">\n",
    "\n",
    "## <a id='section3'></a>3. Launch an FTP request\n",
    "[Back to top](#TOC-TOP)\n",
    "\n",
    "</div>"
   ]
  },
  {
   "cell_type": "markdown",
   "metadata": {
    "tags": []
   },
   "source": [
    "### Global Sea Ice Concentration (SSMIS) :\n",
    "\n",
    "Let's start by creating a specific folder to hold the Sea Ice Concentration products"
   ]
  },
  {
   "cell_type": "code",
   "execution_count": 6,
   "metadata": {},
   "outputs": [],
   "source": [
    "download_dir = os.path.join(os.getcwd(), \"products\", \"sea_ice_conc_SSMIS\")\n",
    "os.makedirs(download_dir, exist_ok=True)"
   ]
  },
  {
   "cell_type": "markdown",
   "metadata": {},
   "source": [
    "Sea Ice Concentration products exist for each hemisphere.\n",
    "\n",
    "Let's look at the Northern hemisphere Arctic Sea Ice Concentration"
   ]
  },
  {
   "cell_type": "code",
   "execution_count": 7,
   "metadata": {},
   "outputs": [],
   "source": [
    "download_dir = os.path.join(os.getcwd(), \"products\", \"sea_ice_conc_SSMIS/nh\")\n",
    "os.makedirs(download_dir, exist_ok=True)"
   ]
  },
  {
   "cell_type": "markdown",
   "metadata": {},
   "source": [
    "Set the download path"
   ]
  },
  {
   "cell_type": "code",
   "execution_count": 8,
   "metadata": {},
   "outputs": [],
   "source": [
    "path = '/prod/ice/conc/'\n",
    "file_pattern = 'ice_conc_nh_polstere-100_multi_'"
   ]
  },
  {
   "cell_type": "code",
   "execution_count": 9,
   "metadata": {},
   "outputs": [
    {
     "data": {
      "text/plain": [
       "'221 Goodbye.'"
      ]
     },
     "execution_count": 9,
     "metadata": {},
     "output_type": "execute_result"
    }
   ],
   "source": [
    "# connect ftp and download file\n",
    "ftp = ftplib.FTP(\"osisaf.met.no\") \n",
    "ftp.login(username, password)\n",
    "ftp.cwd(path)\n",
    "files = ftp.nlst()\n",
    "for file in files:\n",
    "    if file_pattern in file:\n",
    "        filename = file\n",
    "ftp.retrbinary(\"RETR \" + filename, open(os.path.join(os.getcwd(), 'products', 'sea_ice_conc_SSMIS', 'nh', filename), 'wb').write)\n",
    "ftp.quit()"
   ]
  },
  {
   "cell_type": "markdown",
   "metadata": {},
   "source": [
    "Let's look at the Southern hemisphere Antarctic Sea Ice Concentration"
   ]
  },
  {
   "cell_type": "code",
   "execution_count": 10,
   "metadata": {},
   "outputs": [],
   "source": [
    "download_dir = os.path.join(os.getcwd(), \"products\", \"sea_ice_conc_SSMIS/sh\")\n",
    "os.makedirs(download_dir, exist_ok=True)"
   ]
  },
  {
   "cell_type": "markdown",
   "metadata": {},
   "source": [
    "Set the download path"
   ]
  },
  {
   "cell_type": "code",
   "execution_count": 11,
   "metadata": {},
   "outputs": [],
   "source": [
    "path = '/prod/ice/conc/'\n",
    "file_pattern = 'ice_conc_sh_polstere-100_multi_'"
   ]
  },
  {
   "cell_type": "code",
   "execution_count": 12,
   "metadata": {},
   "outputs": [
    {
     "data": {
      "text/plain": [
       "'221 Goodbye.'"
      ]
     },
     "execution_count": 12,
     "metadata": {},
     "output_type": "execute_result"
    }
   ],
   "source": [
    "# connect ftp and download file\n",
    "ftp = ftplib.FTP(\"osisaf.met.no\") \n",
    "ftp.login(username, password)\n",
    "ftp.cwd(path)\n",
    "files = ftp.nlst()\n",
    "for file in files:\n",
    "    if file_pattern in file:\n",
    "        filename = file\n",
    "ftp.retrbinary(\"RETR \" + filename, open(os.path.join(os.getcwd(), 'products', 'sea_ice_conc_SSMIS', 'sh', filename), 'wb').write)\n",
    "ftp.quit()"
   ]
  },
  {
   "cell_type": "markdown",
   "metadata": {
    "tags": []
   },
   "source": [
    "### Global Sea Ice Type :\n",
    "\n",
    "Let's start by creating a specific folder to hold the Sea Ice Type products"
   ]
  },
  {
   "cell_type": "code",
   "execution_count": 13,
   "metadata": {},
   "outputs": [],
   "source": [
    "download_dir = os.path.join(os.getcwd(), \"products\", \"sea_ice_type\")\n",
    "os.makedirs(download_dir, exist_ok=True)"
   ]
  },
  {
   "cell_type": "markdown",
   "metadata": {},
   "source": [
    "Sea Ice Type products exist for each hemisphere.\n",
    "\n",
    "Let's look at the Northern hemisphere Arctic Sea Ice Type"
   ]
  },
  {
   "cell_type": "code",
   "execution_count": 14,
   "metadata": {},
   "outputs": [],
   "source": [
    "download_dir = os.path.join(os.getcwd(), \"products\", \"sea_ice_type\", \"nh\")\n",
    "os.makedirs(download_dir, exist_ok=True)"
   ]
  },
  {
   "cell_type": "markdown",
   "metadata": {},
   "source": [
    "Set the download path"
   ]
  },
  {
   "cell_type": "code",
   "execution_count": 15,
   "metadata": {},
   "outputs": [],
   "source": [
    "path = '/prod/ice/type/'\n",
    "file_pattern = 'ice_type_nh_polstere-100_multi_'"
   ]
  },
  {
   "cell_type": "code",
   "execution_count": 16,
   "metadata": {},
   "outputs": [
    {
     "data": {
      "text/plain": [
       "'221 Goodbye.'"
      ]
     },
     "execution_count": 16,
     "metadata": {},
     "output_type": "execute_result"
    }
   ],
   "source": [
    "# connect ftp and download file\n",
    "ftp = ftplib.FTP(\"osisaf.met.no\") \n",
    "ftp.login(username, password)\n",
    "ftp.cwd(path)\n",
    "files = ftp.nlst()\n",
    "for file in files:\n",
    "    if file_pattern in file:\n",
    "        filename = file\n",
    "ftp.retrbinary(\"RETR \" + filename, open(os.path.join(os.getcwd(), 'products', 'sea_ice_type', 'nh', filename), 'wb').write)\n",
    "ftp.quit()"
   ]
  },
  {
   "cell_type": "markdown",
   "metadata": {},
   "source": [
    "Let's look at the Southern hemisphere Antarctic Sea Ice Type"
   ]
  },
  {
   "cell_type": "code",
   "execution_count": 17,
   "metadata": {},
   "outputs": [],
   "source": [
    "download_dir = os.path.join(os.getcwd(), \"products\", \"sea_ice_type\", \"sh\")\n",
    "os.makedirs(download_dir, exist_ok=True)"
   ]
  },
  {
   "cell_type": "markdown",
   "metadata": {},
   "source": [
    "Set the download path"
   ]
  },
  {
   "cell_type": "code",
   "execution_count": 18,
   "metadata": {},
   "outputs": [],
   "source": [
    "path = '/prod/ice/type/'\n",
    "file_pattern = 'ice_type_sh_polstere-100_multi_'"
   ]
  },
  {
   "cell_type": "code",
   "execution_count": 19,
   "metadata": {},
   "outputs": [
    {
     "data": {
      "text/plain": [
       "'221 Goodbye.'"
      ]
     },
     "execution_count": 19,
     "metadata": {},
     "output_type": "execute_result"
    }
   ],
   "source": [
    "# connect ftp and download file\n",
    "ftp = ftplib.FTP(\"osisaf.met.no\") \n",
    "ftp.login(username, password)\n",
    "ftp.cwd(path)\n",
    "files = ftp.nlst()\n",
    "for file in files:\n",
    "    if file_pattern in file:\n",
    "        filename = file\n",
    "ftp.retrbinary(\"RETR \" + filename, open(os.path.join(os.getcwd(), 'products', 'sea_ice_type', 'sh', filename), 'wb').write)\n",
    "ftp.quit()"
   ]
  },
  {
   "cell_type": "markdown",
   "metadata": {
    "tags": []
   },
   "source": [
    "### Global Sea Ice Edge :\n",
    "\n",
    "Let's start by creating a specific folder to hold the Sea Ice Edge products"
   ]
  },
  {
   "cell_type": "code",
   "execution_count": 20,
   "metadata": {},
   "outputs": [],
   "source": [
    "download_dir = os.path.join(os.getcwd(), \"products\", \"sea_ice_edge\")\n",
    "os.makedirs(download_dir, exist_ok=True)"
   ]
  },
  {
   "cell_type": "markdown",
   "metadata": {},
   "source": [
    "Sea Ice Edge products exist for each hemisphere.\n",
    "\n",
    "Let's look at the Northern hemisphere Arctic Sea Ice Edge"
   ]
  },
  {
   "cell_type": "code",
   "execution_count": 21,
   "metadata": {},
   "outputs": [],
   "source": [
    "download_dir = os.path.join(os.getcwd(), \"products\", \"sea_ice_edge\", \"nh\")\n",
    "os.makedirs(download_dir, exist_ok=True)"
   ]
  },
  {
   "cell_type": "markdown",
   "metadata": {},
   "source": [
    "Set the download path"
   ]
  },
  {
   "cell_type": "code",
   "execution_count": 22,
   "metadata": {},
   "outputs": [],
   "source": [
    "path = '/prod/ice/edge/'\n",
    "file_pattern = 'ice_edge_nh_polstere-100_multi_'"
   ]
  },
  {
   "cell_type": "code",
   "execution_count": 23,
   "metadata": {},
   "outputs": [
    {
     "data": {
      "text/plain": [
       "'221 Goodbye.'"
      ]
     },
     "execution_count": 23,
     "metadata": {},
     "output_type": "execute_result"
    }
   ],
   "source": [
    "# connect ftp and download file\n",
    "ftp = ftplib.FTP(\"osisaf.met.no\") \n",
    "ftp.login(username, password)\n",
    "ftp.cwd(path)\n",
    "files = ftp.nlst()\n",
    "for file in files:\n",
    "    if file_pattern in file:\n",
    "        filename = file\n",
    "ftp.retrbinary(\"RETR \" + filename, open(os.path.join(os.getcwd(), 'products', 'sea_ice_edge', 'nh', filename), 'wb').write)\n",
    "ftp.quit()"
   ]
  },
  {
   "cell_type": "markdown",
   "metadata": {},
   "source": [
    "Let's look at the Southern hemisphere Antarctic Sea Ice Edge"
   ]
  },
  {
   "cell_type": "code",
   "execution_count": 24,
   "metadata": {},
   "outputs": [],
   "source": [
    "download_dir = os.path.join(os.getcwd(), \"products\", \"sea_ice_edge\", \"sh\")\n",
    "os.makedirs(download_dir, exist_ok=True)"
   ]
  },
  {
   "cell_type": "markdown",
   "metadata": {},
   "source": [
    "Set the download path"
   ]
  },
  {
   "cell_type": "code",
   "execution_count": 25,
   "metadata": {},
   "outputs": [],
   "source": [
    "path = '/prod/ice/edge/'\n",
    "file_pattern = 'ice_edge_sh_polstere-100_multi_'"
   ]
  },
  {
   "cell_type": "code",
   "execution_count": 26,
   "metadata": {},
   "outputs": [
    {
     "data": {
      "text/plain": [
       "'221 Goodbye.'"
      ]
     },
     "execution_count": 26,
     "metadata": {},
     "output_type": "execute_result"
    }
   ],
   "source": [
    "# connect ftp and download file\n",
    "ftp = ftplib.FTP(\"osisaf.met.no\") \n",
    "ftp.login(username, password)\n",
    "ftp.cwd(path)\n",
    "files = ftp.nlst()\n",
    "for file in files:\n",
    "    if file_pattern in file:\n",
    "        filename = file\n",
    "ftp.retrbinary(\"RETR \" + filename, open(os.path.join(os.getcwd(), 'products', 'sea_ice_edge', 'sh', filename), 'wb').write)\n",
    "ftp.quit()"
   ]
  },
  {
   "cell_type": "markdown",
   "metadata": {
    "tags": []
   },
   "source": [
    "### Global Sea Ice Emissivity :\n",
    "\n",
    "Let's start by creating a specific folder to hold the Sea Ice Emissivity products"
   ]
  },
  {
   "cell_type": "code",
   "execution_count": 27,
   "metadata": {},
   "outputs": [],
   "source": [
    "download_dir = os.path.join(os.getcwd(), \"products\", \"sea_ice_emissivity\")\n",
    "os.makedirs(download_dir, exist_ok=True)"
   ]
  },
  {
   "cell_type": "markdown",
   "metadata": {},
   "source": [
    "Sea Ice Emmissivity products exist for each hemisphere.\n",
    "\n",
    "Let's look at the Northern hemisphere Arctic Sea Ice Emmissivity"
   ]
  },
  {
   "cell_type": "code",
   "execution_count": 28,
   "metadata": {},
   "outputs": [],
   "source": [
    "download_dir = os.path.join(os.getcwd(), \"products\", \"sea_ice_emissivity\", \"nh\")\n",
    "os.makedirs(download_dir, exist_ok=True)"
   ]
  },
  {
   "cell_type": "markdown",
   "metadata": {},
   "source": [
    "Set the download path"
   ]
  },
  {
   "cell_type": "code",
   "execution_count": 29,
   "metadata": {},
   "outputs": [],
   "source": [
    "path = '/prod/ice/emis/'\n",
    "file_pattern = 'ice_emis_nh_stere-100_ssmis_'"
   ]
  },
  {
   "cell_type": "code",
   "execution_count": 30,
   "metadata": {},
   "outputs": [
    {
     "data": {
      "text/plain": [
       "'221 Goodbye.'"
      ]
     },
     "execution_count": 30,
     "metadata": {},
     "output_type": "execute_result"
    }
   ],
   "source": [
    "# connect ftp and download file\n",
    "ftp = ftplib.FTP(\"osisaf.met.no\") \n",
    "ftp.login(username, password)\n",
    "ftp.cwd(path)\n",
    "files = ftp.nlst()\n",
    "for file in files:\n",
    "    if file_pattern in file:\n",
    "        filename = file\n",
    "ftp.retrbinary(\"RETR \" + filename, open(os.path.join(os.getcwd(), 'products', 'sea_ice_emissivity', 'nh', filename), 'wb').write)\n",
    "ftp.quit()"
   ]
  },
  {
   "cell_type": "markdown",
   "metadata": {},
   "source": [
    "Let's look at the Southern hemisphere Antarctic Sea Ice Emissivity"
   ]
  },
  {
   "cell_type": "code",
   "execution_count": 31,
   "metadata": {},
   "outputs": [],
   "source": [
    "download_dir = os.path.join(os.getcwd(), \"products\", \"sea_ice_emissivity\", \"sh\")\n",
    "os.makedirs(download_dir, exist_ok=True)"
   ]
  },
  {
   "cell_type": "markdown",
   "metadata": {},
   "source": [
    "Set the download path"
   ]
  },
  {
   "cell_type": "code",
   "execution_count": 32,
   "metadata": {},
   "outputs": [],
   "source": [
    "path = '/prod/ice/emis/'\n",
    "file_pattern = 'ice_emis_sh_stere-100_ssmis_'"
   ]
  },
  {
   "cell_type": "code",
   "execution_count": 33,
   "metadata": {},
   "outputs": [
    {
     "data": {
      "text/plain": [
       "'221 Goodbye.'"
      ]
     },
     "execution_count": 33,
     "metadata": {},
     "output_type": "execute_result"
    }
   ],
   "source": [
    "# connect ftp and download file\n",
    "ftp = ftplib.FTP(\"osisaf.met.no\") \n",
    "ftp.login(username, password)\n",
    "ftp.cwd(path)\n",
    "files = ftp.nlst()\n",
    "for file in files:\n",
    "    if file_pattern in file:\n",
    "        filename = file\n",
    "ftp.retrbinary(\"RETR \" + filename, open(os.path.join(os.getcwd(), 'products', 'sea_ice_emissivity', 'sh', filename), 'wb').write)\n",
    "ftp.quit()"
   ]
  },
  {
   "cell_type": "markdown",
   "metadata": {
    "tags": []
   },
   "source": [
    "### Global Low Resolution Sea Ice Drift :\n",
    "\n",
    "Let's start by creating a specific folder to hold the Sea Ice Drift low resolution products"
   ]
  },
  {
   "cell_type": "code",
   "execution_count": 34,
   "metadata": {},
   "outputs": [],
   "source": [
    "download_dir = os.path.join(os.getcwd(), \"products\", \"sea_ice_drift_lr\")\n",
    "os.makedirs(download_dir, exist_ok=True)"
   ]
  },
  {
   "cell_type": "markdown",
   "metadata": {},
   "source": [
    "Sea Ice Drift products exist for each hemisphere.\n",
    "\n",
    "Let's look at the Northern hemisphere Arctic Sea Ice Drift"
   ]
  },
  {
   "cell_type": "code",
   "execution_count": 35,
   "metadata": {},
   "outputs": [],
   "source": [
    "download_dir = os.path.join(os.getcwd(), \"products\", \"sea_ice_drift_lr\", \"nh\")\n",
    "os.makedirs(download_dir, exist_ok=True)"
   ]
  },
  {
   "cell_type": "markdown",
   "metadata": {},
   "source": [
    "Set the download path"
   ]
  },
  {
   "cell_type": "code",
   "execution_count": 36,
   "metadata": {},
   "outputs": [],
   "source": [
    "path = '/prod/ice/drift_lr/merged'\n",
    "file_pattern = 'ice_drift_nh_polstere-625_'"
   ]
  },
  {
   "cell_type": "code",
   "execution_count": 37,
   "metadata": {},
   "outputs": [
    {
     "data": {
      "text/plain": [
       "'221 Goodbye.'"
      ]
     },
     "execution_count": 37,
     "metadata": {},
     "output_type": "execute_result"
    }
   ],
   "source": [
    "# connect ftp and download file\n",
    "ftp = ftplib.FTP(\"osisaf.met.no\") \n",
    "ftp.login(username, password)\n",
    "ftp.cwd(path)\n",
    "files = ftp.nlst()\n",
    "for file in files:\n",
    "    if file_pattern in file:\n",
    "        filename = file\n",
    "ftp.retrbinary(\"RETR \" + filename, open(os.path.join(os.getcwd(), 'products', 'sea_ice_drift_lr', 'nh', filename), 'wb').write)\n",
    "ftp.quit()"
   ]
  },
  {
   "cell_type": "markdown",
   "metadata": {
    "tags": []
   },
   "source": [
    "### Medium Resolution Sea Ice Drift\n",
    "Let's start by creating a specific folder to hold the Sea Ice Drift Medium resolution products"
   ]
  },
  {
   "cell_type": "code",
   "execution_count": 38,
   "metadata": {},
   "outputs": [],
   "source": [
    "download_dir = os.path.join(os.getcwd(), \"products\", \"sea_ice_drift_mr\")\n",
    "os.makedirs(download_dir, exist_ok=True)"
   ]
  },
  {
   "cell_type": "markdown",
   "metadata": {},
   "source": [
    "Let's look at the Northern hemisphere Arctic Sea Ice Drift"
   ]
  },
  {
   "cell_type": "code",
   "execution_count": 39,
   "metadata": {},
   "outputs": [],
   "source": [
    "download_dir = os.path.join(os.getcwd(), \"products\", \"sea_ice_drift_mr\", \"nh\")\n",
    "os.makedirs(download_dir, exist_ok=True)"
   ]
  },
  {
   "cell_type": "markdown",
   "metadata": {},
   "source": [
    "Set the download path"
   ]
  },
  {
   "cell_type": "code",
   "execution_count": 40,
   "metadata": {},
   "outputs": [],
   "source": [
    "path = '/prod/ice/drift_mr'\n",
    "file_pattern = 'ice_drift_nh_polstere-200_'"
   ]
  },
  {
   "cell_type": "code",
   "execution_count": 41,
   "metadata": {},
   "outputs": [
    {
     "data": {
      "text/plain": [
       "'221 Goodbye.'"
      ]
     },
     "execution_count": 41,
     "metadata": {},
     "output_type": "execute_result"
    }
   ],
   "source": [
    "# connect ftp and download file\n",
    "ftp = ftplib.FTP(\"osisaf.met.no\") \n",
    "ftp.login(username, password)\n",
    "ftp.cwd(path)\n",
    "files = ftp.nlst()\n",
    "for file in files:\n",
    "    if file_pattern in file:\n",
    "        filename = file\n",
    "ftp.retrbinary(\"RETR \" + filename, open(os.path.join(os.getcwd(), 'products', 'sea_ice_drift_mr', 'nh', filename), 'wb').write)\n",
    "ftp.quit()"
   ]
  },
  {
   "cell_type": "markdown",
   "metadata": {
    "tags": []
   },
   "source": [
    "### Global Sea Ice Concentration (AMSR-2)\n",
    "Let's start by creating a specific folder to hold the Global Sea Ice Concentration (AMSR-2) products"
   ]
  },
  {
   "cell_type": "code",
   "execution_count": 42,
   "metadata": {},
   "outputs": [],
   "source": [
    "download_dir = os.path.join(os.getcwd(), \"products\", \"sea_ice_conc_AMSR\")\n",
    "os.makedirs(download_dir, exist_ok=True)"
   ]
  },
  {
   "cell_type": "markdown",
   "metadata": {},
   "source": [
    "Global Sea Ice Concentration (AMSR-2) products exist for each hemisphere.\n",
    "\n",
    "Let's look at the Northern hemisphere"
   ]
  },
  {
   "cell_type": "code",
   "execution_count": 43,
   "metadata": {},
   "outputs": [],
   "source": [
    "download_dir = os.path.join(os.getcwd(), \"products\", \"sea_ice_conc_AMSR\", \"nh\")\n",
    "os.makedirs(download_dir, exist_ok=True)"
   ]
  },
  {
   "cell_type": "markdown",
   "metadata": {},
   "source": [
    "Set the download path"
   ]
  },
  {
   "cell_type": "code",
   "execution_count": 44,
   "metadata": {},
   "outputs": [],
   "source": [
    "path = '/archive/ice/conc_amsr/2023/06'\n",
    "file_pattern = 'ice_conc_nh_polstere-100_amsr2_'"
   ]
  },
  {
   "cell_type": "code",
   "execution_count": 45,
   "metadata": {},
   "outputs": [
    {
     "data": {
      "text/plain": [
       "'221 Goodbye.'"
      ]
     },
     "execution_count": 45,
     "metadata": {},
     "output_type": "execute_result"
    }
   ],
   "source": [
    "# connect ftp and download file\n",
    "ftp = ftplib.FTP(\"osisaf.met.no\") \n",
    "ftp.login(username, password)\n",
    "ftp.cwd(path)\n",
    "files = ftp.nlst()\n",
    "for file in files:\n",
    "    if file_pattern in file:\n",
    "        filename = file\n",
    "ftp.retrbinary(\"RETR \" + filename, open(os.path.join(os.getcwd(), 'products', 'sea_ice_conc_AMSR', 'nh', filename), 'wb').write)\n",
    "ftp.quit()"
   ]
  },
  {
   "cell_type": "markdown",
   "metadata": {},
   "source": [
    "Let's look at the Southern hemisphere "
   ]
  },
  {
   "cell_type": "code",
   "execution_count": 46,
   "metadata": {},
   "outputs": [],
   "source": [
    "download_dir = os.path.join(os.getcwd(), \"products\", \"sea_ice_conc_AMSR\", \"sh\")\n",
    "os.makedirs(download_dir, exist_ok=True)"
   ]
  },
  {
   "cell_type": "markdown",
   "metadata": {},
   "source": [
    "Set the download path"
   ]
  },
  {
   "cell_type": "code",
   "execution_count": 47,
   "metadata": {},
   "outputs": [],
   "source": [
    "path = '/archive/ice/conc_amsr/2023/06'\n",
    "file_pattern = 'ice_conc_sh_polstere-100_amsr2_'"
   ]
  },
  {
   "cell_type": "code",
   "execution_count": 48,
   "metadata": {},
   "outputs": [
    {
     "data": {
      "text/plain": [
       "'221 Goodbye.'"
      ]
     },
     "execution_count": 48,
     "metadata": {},
     "output_type": "execute_result"
    }
   ],
   "source": [
    "# connect ftp and download file\n",
    "ftp = ftplib.FTP(\"osisaf.met.no\") \n",
    "ftp.login(username, password)\n",
    "ftp.cwd(path)\n",
    "files = ftp.nlst()\n",
    "for file in files:\n",
    "    if file_pattern in file:\n",
    "        filename = file\n",
    "ftp.retrbinary(\"RETR \" + filename, open(os.path.join(os.getcwd(), 'products', 'sea_ice_conc_AMSR', 'sh', filename), 'wb').write)\n",
    "ftp.quit()"
   ]
  },
  {
   "cell_type": "markdown",
   "metadata": {
    "tags": []
   },
   "source": [
    "### Level 2 PMW sea ice concentration\n",
    "Let's start by creating a specific folder to hold theLevel 2 PMW sea ice concentration products"
   ]
  },
  {
   "cell_type": "code",
   "execution_count": 49,
   "metadata": {},
   "outputs": [],
   "source": [
    "download_dir = os.path.join(os.getcwd(), \"products\", \"sea_ice_conc_PMW\")\n",
    "os.makedirs(download_dir, exist_ok=True)"
   ]
  },
  {
   "cell_type": "markdown",
   "metadata": {},
   "source": [
    "Level 2 PMW sea ice concentration product exist for SSMIS and AMSR-2 instruments\n",
    "\n",
    "Let's look at the AMSR intrument"
   ]
  },
  {
   "cell_type": "code",
   "execution_count": 50,
   "metadata": {},
   "outputs": [],
   "source": [
    "download_dir = os.path.join(os.getcwd(), \"products\", \"sea_ice_conc_PMW\", \"AMSR\")\n",
    "os.makedirs(download_dir, exist_ok=True)"
   ]
  },
  {
   "cell_type": "markdown",
   "metadata": {},
   "source": [
    "Set the download path"
   ]
  },
  {
   "cell_type": "code",
   "execution_count": 51,
   "metadata": {},
   "outputs": [],
   "source": [
    "path = '/archive/ice/conc_l2_amsr/2023/06/16'\n",
    "file_pattern = 'ice_conc_l2_amsr2_gw1_'"
   ]
  },
  {
   "cell_type": "code",
   "execution_count": 52,
   "metadata": {},
   "outputs": [
    {
     "data": {
      "text/plain": [
       "'221 Goodbye.'"
      ]
     },
     "execution_count": 52,
     "metadata": {},
     "output_type": "execute_result"
    }
   ],
   "source": [
    "# connect ftp and download file\n",
    "ftp = ftplib.FTP(\"osisaf.met.no\") \n",
    "ftp.login(username, password)\n",
    "ftp.cwd(path)\n",
    "files = ftp.nlst()\n",
    "for file in files:\n",
    "    if file_pattern in file:\n",
    "        filename = file\n",
    "        ftp.retrbinary(\"RETR \" + filename, open(os.path.join(os.getcwd(), 'products', 'sea_ice_conc_PMW', 'AMSR', filename), 'wb').write)\n",
    "ftp.quit()"
   ]
  },
  {
   "cell_type": "markdown",
   "metadata": {},
   "source": [
    "Let's look at the SSMIS intrument"
   ]
  },
  {
   "cell_type": "code",
   "execution_count": 53,
   "metadata": {},
   "outputs": [],
   "source": [
    "download_dir = os.path.join(os.getcwd(), \"products\", \"sea_ice_conc_PMW\", \"SSMIS\")\n",
    "os.makedirs(download_dir, exist_ok=True)"
   ]
  },
  {
   "cell_type": "markdown",
   "metadata": {},
   "source": [
    "Set the download path"
   ]
  },
  {
   "cell_type": "code",
   "execution_count": 54,
   "metadata": {},
   "outputs": [],
   "source": [
    "path = '/archive/ice/conc_l2_ssmis/2023/06/16'\n",
    "file_pattern = 'ice_conc_l2_ssmis_'"
   ]
  },
  {
   "cell_type": "code",
   "execution_count": 55,
   "metadata": {},
   "outputs": [
    {
     "data": {
      "text/plain": [
       "'221 Goodbye.'"
      ]
     },
     "execution_count": 55,
     "metadata": {},
     "output_type": "execute_result"
    }
   ],
   "source": [
    "# connect ftp and download file\n",
    "ftp = ftplib.FTP(\"osisaf.met.no\") \n",
    "ftp.login(username, password)\n",
    "ftp.cwd(path)\n",
    "files = ftp.nlst()\n",
    "for file in files:\n",
    "    if file_pattern in file:\n",
    "        filename = file\n",
    "        ftp.retrbinary(\"RETR \" + filename, open(os.path.join(os.getcwd(), 'products', 'sea_ice_conc_PMW', 'SSMIS', filename), 'wb').write)\n",
    "ftp.quit()"
   ]
  },
  {
   "cell_type": "markdown",
   "metadata": {
    "tags": []
   },
   "source": [
    "### Global Sea Ice Concentration interim climate data record, release 3\n",
    "Let's start by creating a specific folder to hold the Global Sea Ice Concentration interim climate data record, release 3 products"
   ]
  },
  {
   "cell_type": "code",
   "execution_count": 56,
   "metadata": {},
   "outputs": [],
   "source": [
    "download_dir = os.path.join(os.getcwd(), \"products\", \"sea_ice_conc_interim\")\n",
    "os.makedirs(download_dir, exist_ok=True)"
   ]
  },
  {
   "cell_type": "markdown",
   "metadata": {},
   "source": [
    "Global Sea Ice Concentration (AMSR-2) products exist for each hemisphere.\n",
    "\n",
    "Let's look at the Northern hemisphere"
   ]
  },
  {
   "cell_type": "code",
   "execution_count": 57,
   "metadata": {},
   "outputs": [],
   "source": [
    "download_dir = os.path.join(os.getcwd(), \"products\", \"sea_ice_conc_interim\", \"nh\")\n",
    "os.makedirs(download_dir, exist_ok=True)"
   ]
  },
  {
   "cell_type": "markdown",
   "metadata": {},
   "source": [
    "Set the download path"
   ]
  },
  {
   "cell_type": "code",
   "execution_count": 58,
   "metadata": {},
   "outputs": [],
   "source": [
    "path = '/reprocessed/ice/conc-cont-reproc/v3p0/2023/06'\n",
    "file_pattern = 'ice_conc_nh_ease2-250_icdr-v3p0_'"
   ]
  },
  {
   "cell_type": "code",
   "execution_count": 59,
   "metadata": {},
   "outputs": [
    {
     "data": {
      "text/plain": [
       "'221 Goodbye.'"
      ]
     },
     "execution_count": 59,
     "metadata": {},
     "output_type": "execute_result"
    }
   ],
   "source": [
    "# connect ftp and download file\n",
    "ftp = ftplib.FTP(\"osisaf.met.no\") \n",
    "ftp.login(username, password)\n",
    "ftp.cwd(path)\n",
    "files = ftp.nlst()\n",
    "for file in files:\n",
    "    if file_pattern in file:\n",
    "        filename = file\n",
    "ftp.retrbinary(\"RETR \" + filename, open(os.path.join(os.getcwd(), 'products', 'sea_ice_conc_interim', 'nh', filename), 'wb').write)\n",
    "ftp.quit()"
   ]
  },
  {
   "cell_type": "markdown",
   "metadata": {},
   "source": [
    "Let's look at the Southern hemisphere"
   ]
  },
  {
   "cell_type": "code",
   "execution_count": 60,
   "metadata": {},
   "outputs": [],
   "source": [
    "download_dir = os.path.join(os.getcwd(), \"products\", \"sea_ice_conc_interim\", \"sh\")\n",
    "os.makedirs(download_dir, exist_ok=True)"
   ]
  },
  {
   "cell_type": "markdown",
   "metadata": {},
   "source": [
    "Set the download path"
   ]
  },
  {
   "cell_type": "code",
   "execution_count": 61,
   "metadata": {},
   "outputs": [],
   "source": [
    "path = '/reprocessed/ice/conc-cont-reproc/v3p0/2023/06'\n",
    "file_pattern = 'ice_conc_sh_ease2-250_icdr-v3p0_'"
   ]
  },
  {
   "cell_type": "code",
   "execution_count": 62,
   "metadata": {},
   "outputs": [
    {
     "data": {
      "text/plain": [
       "'221 Goodbye.'"
      ]
     },
     "execution_count": 62,
     "metadata": {},
     "output_type": "execute_result"
    }
   ],
   "source": [
    "# connect ftp and download file\n",
    "ftp = ftplib.FTP(\"osisaf.met.no\") \n",
    "ftp.login(username, password)\n",
    "ftp.cwd(path)\n",
    "files = ftp.nlst()\n",
    "for file in files:\n",
    "    if file_pattern in file:\n",
    "        filename = file\n",
    "ftp.retrbinary(\"RETR \" + filename, open(os.path.join(os.getcwd(), 'products', 'sea_ice_conc_interim', 'sh', filename), 'wb').write)\n",
    "ftp.quit()"
   ]
  },
  {
   "cell_type": "markdown",
   "metadata": {
    "tags": []
   },
   "source": [
    "### Global Sea Ice Concentration climate data record (SMMR/SSMI/SSMIS), release 3\n",
    "Let's start by creating a specific folder to hold the Global Sea Ice Concentration climate data record (SMMR/SSMI/SSMIS), release 3 products\n"
   ]
  },
  {
   "cell_type": "code",
   "execution_count": 63,
   "metadata": {},
   "outputs": [],
   "source": [
    "download_dir = os.path.join(os.getcwd(), \"products\", \"sea_ice_conc_S\")\n",
    "os.makedirs(download_dir, exist_ok=True)"
   ]
  },
  {
   "cell_type": "markdown",
   "metadata": {},
   "source": [
    "Global Sea Ice Concentration climate data record (SMMR/SSMI/SSMIS), release 3 products exist for each hemisphere.\n",
    "\n",
    "Let's look at the Northern hemisphere"
   ]
  },
  {
   "cell_type": "code",
   "execution_count": 64,
   "metadata": {},
   "outputs": [],
   "source": [
    "download_dir = os.path.join(os.getcwd(), \"products\", \"sea_ice_conc_S\", \"nh\")\n",
    "os.makedirs(download_dir, exist_ok=True)"
   ]
  },
  {
   "cell_type": "markdown",
   "metadata": {},
   "source": [
    "Set the download path"
   ]
  },
  {
   "cell_type": "code",
   "execution_count": 65,
   "metadata": {},
   "outputs": [],
   "source": [
    "path = '/reprocessed/ice/conc/v3p0/2020/12'\n",
    "file_pattern = 'ice_conc_nh_ease2-250_cdr-v3p0_'"
   ]
  },
  {
   "cell_type": "code",
   "execution_count": 66,
   "metadata": {},
   "outputs": [
    {
     "data": {
      "text/plain": [
       "'221 Goodbye.'"
      ]
     },
     "execution_count": 66,
     "metadata": {},
     "output_type": "execute_result"
    }
   ],
   "source": [
    "# connect ftp and download file\n",
    "ftp = ftplib.FTP(\"osisaf.met.no\") \n",
    "ftp.login(username, password)\n",
    "ftp.cwd(path)\n",
    "files = ftp.nlst()\n",
    "for file in files:\n",
    "    if file_pattern in file:\n",
    "        filename = file\n",
    "ftp.retrbinary(\"RETR \" + filename, open(os.path.join(os.getcwd(), 'products', 'sea_ice_conc_S', 'nh', filename), 'wb').write)\n",
    "ftp.quit()"
   ]
  },
  {
   "cell_type": "markdown",
   "metadata": {},
   "source": [
    "Let's look at the Southern hemisphere"
   ]
  },
  {
   "cell_type": "code",
   "execution_count": 67,
   "metadata": {},
   "outputs": [],
   "source": [
    "download_dir = os.path.join(os.getcwd(), \"products\", \"sea_ice_conc_S\", \"sh\")\n",
    "os.makedirs(download_dir, exist_ok=True)"
   ]
  },
  {
   "cell_type": "markdown",
   "metadata": {},
   "source": [
    "Set the download path"
   ]
  },
  {
   "cell_type": "code",
   "execution_count": 68,
   "metadata": {},
   "outputs": [],
   "source": [
    "path = '/reprocessed/ice/conc/v3p0/2020/12'\n",
    "file_pattern = 'ice_conc_sh_ease2-250_cdr-v3p0_'"
   ]
  },
  {
   "cell_type": "code",
   "execution_count": 69,
   "metadata": {},
   "outputs": [
    {
     "data": {
      "text/plain": [
       "'221 Goodbye.'"
      ]
     },
     "execution_count": 69,
     "metadata": {},
     "output_type": "execute_result"
    }
   ],
   "source": [
    "# connect ftp and download file\n",
    "ftp = ftplib.FTP(\"osisaf.met.no\") \n",
    "ftp.login(username, password)\n",
    "ftp.cwd(path)\n",
    "files = ftp.nlst()\n",
    "for file in files:\n",
    "    if file_pattern in file:\n",
    "        filename = file\n",
    "ftp.retrbinary(\"RETR \" + filename, open(os.path.join(os.getcwd(),'products', 'sea_ice_conc_S', 'sh', filename), 'wb').write)\n",
    "ftp.quit()"
   ]
  },
  {
   "cell_type": "markdown",
   "metadata": {},
   "source": [
    "### Global Sea Ice Concentration climate data record (AMSR), release 3\n",
    "Let's start by creating a specific folder to hold the Global Sea Ice Concentration climate data record (AMSR), release 3 products.\n",
    "\n",
    "Data available until 2020-12-31\n"
   ]
  },
  {
   "cell_type": "code",
   "execution_count": 70,
   "metadata": {},
   "outputs": [],
   "source": [
    "download_dir = os.path.join(os.getcwd(), \"products\", \"sea_ice_conc_AMSR_release\")\n",
    "os.makedirs(download_dir, exist_ok=True)"
   ]
  },
  {
   "cell_type": "markdown",
   "metadata": {},
   "source": [
    "Global Sea Ice Concentration climate data record (AMSR), release 3 products exist for each hemisphere.\n",
    "\n",
    "Let's look at the Northern hemisphere"
   ]
  },
  {
   "cell_type": "code",
   "execution_count": 71,
   "metadata": {},
   "outputs": [],
   "source": [
    "download_dir = os.path.join(os.getcwd(), \"products\", \"sea_ice_conc_AMSR_release\", \"nh\")\n",
    "os.makedirs(download_dir, exist_ok=True)"
   ]
  },
  {
   "cell_type": "markdown",
   "metadata": {},
   "source": [
    "Set the download path"
   ]
  },
  {
   "cell_type": "code",
   "execution_count": 72,
   "metadata": {},
   "outputs": [],
   "source": [
    "path = '/reprocessed/ice/conc_amsr/v3p0/2020/12'\n",
    "file_pattern = 'ice_conc_nh_ease2-250_cdr-v3p0-amsr_'"
   ]
  },
  {
   "cell_type": "code",
   "execution_count": 73,
   "metadata": {},
   "outputs": [
    {
     "data": {
      "text/plain": [
       "'221 Goodbye.'"
      ]
     },
     "execution_count": 73,
     "metadata": {},
     "output_type": "execute_result"
    }
   ],
   "source": [
    "# connect ftp and download file\n",
    "ftp = ftplib.FTP(\"osisaf.met.no\") \n",
    "ftp.login(username, password)\n",
    "ftp.cwd(path)\n",
    "files = ftp.nlst()\n",
    "for file in files:\n",
    "    if file_pattern in file:\n",
    "        filename = file\n",
    "ftp.retrbinary(\"RETR \" + filename, open(os.path.join(os.getcwd(), 'products', 'sea_ice_conc_AMSR_release', 'nh', filename), 'wb').write)\n",
    "ftp.quit()"
   ]
  },
  {
   "cell_type": "markdown",
   "metadata": {},
   "source": [
    "Let's look at the Southern hemisphere"
   ]
  },
  {
   "cell_type": "code",
   "execution_count": 74,
   "metadata": {},
   "outputs": [],
   "source": [
    "download_dir = os.path.join(os.getcwd(), \"products\", \"sea_ice_conc_AMSR_release\", \"sh\")\n",
    "os.makedirs(download_dir, exist_ok=True)"
   ]
  },
  {
   "cell_type": "markdown",
   "metadata": {},
   "source": [
    "Set the download path"
   ]
  },
  {
   "cell_type": "code",
   "execution_count": 75,
   "metadata": {},
   "outputs": [],
   "source": [
    "path = '/reprocessed/ice/conc_amsr/v3p0/2020/12'\n",
    "file_pattern = 'ice_conc_sh_ease2-250_cdr-v3p0-amsr_'"
   ]
  },
  {
   "cell_type": "code",
   "execution_count": 76,
   "metadata": {},
   "outputs": [
    {
     "data": {
      "text/plain": [
       "'221 Goodbye.'"
      ]
     },
     "execution_count": 76,
     "metadata": {},
     "output_type": "execute_result"
    }
   ],
   "source": [
    "# connect ftp and download file\n",
    "ftp = ftplib.FTP(\"osisaf.met.no\") \n",
    "ftp.login(username, password)\n",
    "ftp.cwd(path)\n",
    "files = ftp.nlst()\n",
    "for file in files:\n",
    "    if file_pattern in file:\n",
    "        filename = file\n",
    "ftp.retrbinary(\"RETR \" + filename, open(os.path.join(os.getcwd(), 'products', 'sea_ice_conc_AMSR_release', 'sh', filename), 'wb').write)\n",
    "ftp.quit()"
   ]
  },
  {
   "cell_type": "markdown",
   "metadata": {
    "tags": []
   },
   "source": [
    "<hr>\n",
    "<a href=\"../Index.ipynb\" target=\"_blank\"><< Index</a>\n",
    "<br>\n",
    "<a href=\"./1_1b_OSI_SAF_sea_ice_C3S_data_access.ipynb\" target=\"_blank\"><< Accessing OSI SAF sea ice products from C3S Data store</a>&nbsp;&nbsp;&nbsp;&nbsp;&nbsp;<a href=\"./1_2_OSI_SAF_sea_ice_file_structure.ipynb\" target=\"_blank\">Exploring OSI SAF sea ice file structure >></a>\n",
    "<hr>\n",
    "<a href=\"https://gitlab.eumetsat.int/eumetlab/ocean\">View on GitLab</a> | <a href=\"https://training.eumetsat.int/\">EUMETSAT Training</a> | <a href=mailto:ops@eumetsat.int>Contact helpdesk for support </a> | <a href=mailto:training@eumetsat.int>Contact our training team to collaborate on and reuse this material</a></span></p>"
   ]
  }
 ],
 "metadata": {
  "author": "Olivier Membrive, Cécile Hernandez, Steinar Eastwood, Signe Aaboe, Thomas Lavergne, Stéphane Saux Picart, Ben Loveday, Hayley Evers-King, Gwenaël Le Bras",
  "content_type": "Software & code",
  "data_access": "CMEMS",
  "deployment": {
   "eumetsat": {
    "binder": {
     "link": "https://mybinder.org/v2/git/https%3A%2F%2Fgitlab.eumetsat.int%2Feumetlab%2Foceans%2Focean-training%2Fsensors%2Flearn-osi-saf-sea-ice/HEAD?labpath=1_OSI_SAF_sea_ice_introductory%2F1_1c_OSI_SAF_sea_ice_Copernicus_marine_data_access.ipynb",
     "service_contact": "ops@eumetsat.int",
     "service_provider": "EUMETSAT"
    },
    "git": {
     "link": "https://gitlab.eumetsat.int/eumetlab/oceans/ocean-training/sensors/learn-osi-saf-sea-ice/-/blob/main/1_OSI_SAF_sea_ice_introductory/1_1c_OSI_SAF_sea_ice_Copernicus_marine_data_access.ipynb",
     "service_contact": "ops@eumetsat.int",
     "service_provider": "EUMETSAT"
    }
   },
   "wekeo": {
    "git": {
     "link": " ",
     "service_contact": "ops@eumetsat.int",
     "service_provider": "EUMETSAT"
    },
    "url": {
     "link": " ",
     "service_contact": "ops@eumetsat.int",
     "service_provider": "EUMETSAT"
    }
   }
  },
  "description": "This Jupyter Notebook shows how to access OSI SAF sea ice data via CMEMS.",
  "image": "../img/thumbs/1_1c_OSI_SAF_sea_ice_Copernicus_marine_data_access.png",
  "kernelspec": {
   "display_name": "Python 3 (ipykernel)",
   "language": "python",
   "name": "python3"
  },
  "language_info": {
   "codemirror_mode": {
    "name": "ipython",
    "version": 3
   },
   "file_extension": ".py",
   "mimetype": "text/x-python",
   "name": "python",
   "nbconvert_exporter": "python",
   "pygments_lexer": "ipython3",
   "version": "3.12.2"
  },
  "license": "MIT",
  "metadata_schema_version": "2.0.0",
  "originator": "EUMETSAT",
  "tags": {
   "data_provider": "EUMETSAT",
   "orbit": "LEO",
   "satellite": [
    "DMSP",
    "GCOM-W",
    "Metop",
    "NIMBUS",
    "Aqua/Terra"
   ],
   "sensor": [
    "SSMIS (DMSP)",
    "AMSR-2 (GCOM-W)",
    "AVHRR (Metop)",
    "SMMR (NIMBUS)",
    "AMSR-E (Aqua/Terra)",
    "SSM/I (DMSP)"
   ],
   "service": "",
   "subtheme": [
    "Climate system monitoring - Ocean",
    "Ocean dynamics"
   ],
   "theme": "Marine",
   "variable": [
    "Sea ice type",
    "Sea ice concentration",
    "Sea ice emmisivity",
    "Sea ice edge",
    "Sea ice drift",
    "Sea ice index"
   ]
  },
  "title": "Accessing OSI SAF sea ice products via the CMEMS server",
  "version": "2.0.0",
  "version_date": "2024-07-01"
 },
 "nbformat": 4,
 "nbformat_minor": 4
}
