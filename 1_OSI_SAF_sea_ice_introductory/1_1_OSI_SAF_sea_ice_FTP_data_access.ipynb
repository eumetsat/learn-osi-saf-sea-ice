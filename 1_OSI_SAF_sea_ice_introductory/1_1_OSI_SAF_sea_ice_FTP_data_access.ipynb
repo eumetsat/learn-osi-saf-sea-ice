{
 "cells": [
  {
   "cell_type": "markdown",
   "metadata": {},
   "source": [
    "<img src='https://gitlab.eumetsat.int/eumetlab/oceans/ocean-training/tools/frameworks/-/raw/main/img/OSI-SAF_banner.png' align='right' width='100%'/>"
   ]
  },
  {
   "cell_type": "markdown",
   "metadata": {},
   "source": [
    "<a href=\"../Index.ipynb\" target=\"_blank\"><< Index</a>\n",
    "<br>\n",
    "<a href=\"./1_2_OSI_SAF_sea_ice_file_structure.ipynb\" target=\"_blank\">NEXT NOTEBOOK >></a>"
   ]
  },
  {
   "cell_type": "markdown",
   "metadata": {},
   "source": [
    "<font color=\"#138D75\">**EUMETSAT OSI SAF Training Service**</font> <br>\n",
    "**Copyright:** 2022 EUMETSAT <br>\n",
    "**License:** MIT"
   ]
  },
  {
   "cell_type": "markdown",
   "metadata": {
    "tags": []
   },
   "source": [
    "<div class=\"alert alert-block alert-success\">\n",
    "<h3>Learn OSI SAF sea ice parameters : Introductory</h3></div>"
   ]
  },
  {
   "cell_type": "markdown",
   "metadata": {},
   "source": [
    "<div class=\"alert alert-block alert-warning\">\n",
    "    \n",
    "<b>PREREQUISITES </b>\n",
    "    \n",
    "This notebook has the following prerequisites:\n",
    "- **<a href=\"https://osi-saf.eumetsat.int/register\" target=\"_blank\">A EUMETSAT OSI SAF account</a>** if you are using or plan to use the EUMETSAT OSI SAF data.\n",
    "\n",
    "There are no prerequisite notebooks for this module.\n",
    "</div>\n",
    "<hr>"
   ]
  },
  {
   "cell_type": "markdown",
   "metadata": {
    "tags": []
   },
   "source": [
    "# 1.1 Access Sea Ice Parameters - OSI SAF HL FTP\n",
    "### Data used \n",
    "\n",
    "| Product Description | Product Navigator | OSI SAF website link | OSI SAF Identifier |\n",
    "|:-----------------:|:-----------------:|:-----------------:|:-----------------:|\n",
    "| Global Sea Ice Concentration (SSMIS) | EO:EUM:DAT:DMSP:OSI-401-B | <a href=\"https://osi-saf.eumetsat.int/products/osi-401-b\" target=\"_blank\">link</a>   | OSI-401-B |\n",
    "| Global Sea Ice Edge | EO:EUM:DAT:MULT:OSIEDGBN | <a href=\"https://osi-saf.eumetsat.int/products/osi-402-d\" target=\"_blank\">link</a> | OSI-402-d | \n",
    "| Global Sea Ice Type | EO:EUM:DAT:MULT:OSITYGBN | <a href=\"https://osi-saf.eumetsat.int/products/osi-403-d\" target=\"_blank\">link</a> | OSI-403-d | \n",
    "| Global Sea Ice Emissivity | EO:EUM:DAT:DMSP:SISE50 | <a href=\"https://osi-saf.eumetsat.int/products/osi-404-a\" target=\"_blank\">link</a> | OSI-404-a | \n",
    "| Global Low Resolution Sea Ice Drift | EO:EUM:DAT:MULT:GBL-LR-SIDR | <a href=\"https://osi-saf.eumetsat.int/products/osi-405-c\" target=\"_blank\">link</a> | OSI-405-c | \n",
    "\n",
    "### Learning outcomes\n",
    "\n",
    "At the end of this notebook you will know;\n",
    "* How to download different OSI SAF Sea Ice Products using FTP access\n",
    "\n",
    "### Outline\n",
    "\n",
    "Data from OSI SAF is available through multiple sources. Here we will guide you through FTP access to OSI SAF Sea Ice Data.\n",
    "\n",
    "<div class=\"alert alert-info\" role=\"alert\">\n",
    "\n",
    "## <a id='TOC_TOP'></a>Contents\n",
    "\n",
    "</div>\n",
    "    \n",
    " 1. [Creating our workspace](#section1)\n",
    " 1. [Setting login information](#section2)\n",
    " 1. [Downloading via FTP requests](#section3)\n",
    "\n",
    "<hr>"
   ]
  },
  {
   "cell_type": "markdown",
   "metadata": {},
   "source": [
    "<div class=\"alert alert-info\" role=\"alert\">\n",
    "\n",
    "## <a id='section1'></a>1. Creating the workspace\n",
    "[Back to top](#TOC_TOP)\n",
    "\n",
    "</div>\n",
    "\n",
    "We begin by importing all of the libraries that we need to run this notebook. If you have built your python using the environment file provided in this repository, then you should have everything you need. For more information on building environment, please see the repository **<a href=\"../README.md\" target=\"_blank\">README</a>**."
   ]
  },
  {
   "cell_type": "code",
   "execution_count": 1,
   "metadata": {},
   "outputs": [],
   "source": [
    "# library imports \n",
    "import os           # a library that allows to access to basic operating system commands like making directories\n",
    "import json         # a library that helps with JSON format files\n",
    "import ftplib       # a library that allows to handle ftp requests"
   ]
  },
  {
   "cell_type": "markdown",
   "metadata": {},
   "source": [
    "Next we will create a download directory to store the products we will download in this notebook."
   ]
  },
  {
   "cell_type": "code",
   "execution_count": 2,
   "metadata": {},
   "outputs": [],
   "source": [
    "download_dir = os.path.join(os.getcwd(), \"products\")\n",
    "os.makedirs(download_dir, exist_ok=True)"
   ]
  },
  {
   "cell_type": "markdown",
   "metadata": {},
   "source": [
    "<div class=\"alert alert-info\" role=\"alert\">\n",
    "\n",
    "## <a id='section2'></a>2. Setting Username and Password\n",
    "[Back to top](#TOC_TOP)\n",
    "\n",
    "</div>\n",
    "\n",
    "\n",
    "We will access OSI SAF data from the OSI SAF High Latitude Centre FTP server.\n",
    "\n",
    "In order to allow us to download data, we need to provide our credentials. We can do this in two ways; either by creating a file called `.eumetsat_osi_saf_sea_ice_credentials` in our home directory (*option 1 - recommended*) or by supplying our credentials directly in this script (*option 2*). \n",
    "\n",
    "#### Option 1: creating  `.eumetsat_osi_saf_sea_ice_credentials` in our home directory\n",
    "\n",
    "For most computer systems the home directory can be found at the path \\user\\username, /users/username, or /home/username depending on your operating system.\n",
    "\n",
    "In this file we need to add the following information exactly as follows;\n",
    "\n",
    "```\n",
    "{\n",
    "\"username\": \"<provided_username>\",\n",
    "\"password\": \"<provided_password>\"\n",
    "}\n",
    "```\n",
    "\n",
    "You must replace `<provided_username>` and `<provided_password>` with the information provided to you after you have registered to the OSI SAF website and mentionned your interest in Sea Ice data. \n",
    "\n",
    "Once you have created an <a href=\"https://osi-saf.eumetsat.int/register\" target=\"_blank\">EUMETSAT OSI SAF account</a>, the generic password and credentials to access OSI SAF High Latitude server should have been sent to you via email.\n",
    "\n",
    "Make sure to save the file without any kind of extension.\n",
    "\n",
    "Once you have done this, you can read in your credentials using the commands in the following cell. These will be used to generate a time-limited token, which will refresh itself when it expires."
   ]
  },
  {
   "cell_type": "markdown",
   "metadata": {},
   "source": [
    "Reading credential information"
   ]
  },
  {
   "cell_type": "code",
   "execution_count": 3,
   "metadata": {},
   "outputs": [],
   "source": [
    "# read credentials\n",
    "with open(os.path.join(os.path.expanduser(\"~\"),'.eumetsat_osi_saf_sea_ice_credentials')) as json_file:\n",
    "    credentials = json.load(json_file)"
   ]
  },
  {
   "cell_type": "markdown",
   "metadata": {},
   "source": [
    "Loading credentials"
   ]
  },
  {
   "cell_type": "code",
   "execution_count": 4,
   "metadata": {},
   "outputs": [],
   "source": [
    "username = credentials['username'] \n",
    "password = credentials['password']"
   ]
  },
  {
   "cell_type": "markdown",
   "metadata": {},
   "source": [
    "#### Option 2: provide credentials directly\n",
    "\n",
    "You can provide your credentials directly as follows; by uncommenting the following lines. "
   ]
  },
  {
   "cell_type": "code",
   "execution_count": 5,
   "metadata": {},
   "outputs": [],
   "source": [
    "#username = \"<provided_username>\"\n",
    "#password = \"<provided_password>\""
   ]
  },
  {
   "cell_type": "markdown",
   "metadata": {},
   "source": [
    "You must replace `<provided_username>` and `<provided_password>` with the information provided to you after you have registered to the OSI SAF website and mentionned your interest in Sea Ice data. \n",
    "\n",
    "Once you have created an <a href=\"https://osi-saf.eumetsat.int/register\" target=\"_blank\">EUMETSAT OSI SAF account</a>, the generic password and credentials to access OSI SAF High Latitude server should have been sent to you via email.\n",
    "\n",
    "*Note: this method is convenient in the short term, but is not really recommended as you have to put your provided username and password in this notebook, and run the risk of accidentally sharing them. This method also requires you to authenticate on a notebook-by-notebook basis.*"
   ]
  },
  {
   "cell_type": "markdown",
   "metadata": {},
   "source": [
    "<div class=\"alert alert-danger\" role=\"alert\">\n",
    "\n",
    "## <a id='section3'></a>3. Launch an FTP request\n",
    "[Back to top](#TOC_TOP)\n",
    "\n",
    "</div>"
   ]
  },
  {
   "cell_type": "markdown",
   "metadata": {},
   "source": [
    "### Ice concentration :\n",
    "\n",
    "Let's start by creating a specific folder to hold the Sea Ice Concentration products"
   ]
  },
  {
   "cell_type": "code",
   "execution_count": 6,
   "metadata": {},
   "outputs": [],
   "source": [
    "download_dir = os.path.join(os.getcwd(), \"products/sea_ice_concentration\")\n",
    "os.makedirs(download_dir, exist_ok=True)"
   ]
  },
  {
   "cell_type": "markdown",
   "metadata": {},
   "source": [
    "Sea Ice Concentration products exist for each hemisphere.\n",
    "\n",
    "Let's look at the Northern hemisphere Arctic Sea Ice Concentration"
   ]
  },
  {
   "cell_type": "code",
   "execution_count": 7,
   "metadata": {},
   "outputs": [],
   "source": [
    "download_dir = os.path.join(os.getcwd(), \"products/sea_ice_concentration/nh\")\n",
    "os.makedirs(download_dir, exist_ok=True)"
   ]
  },
  {
   "cell_type": "markdown",
   "metadata": {},
   "source": [
    "Set the download path"
   ]
  },
  {
   "cell_type": "code",
   "execution_count": 8,
   "metadata": {},
   "outputs": [],
   "source": [
    "path = '/prod/ice/conc/'\n",
    "filename = 'ice_conc_nh_polstere-100_multi_202211081200.nc'"
   ]
  },
  {
   "cell_type": "code",
   "execution_count": 9,
   "metadata": {},
   "outputs": [
    {
     "data": {
      "text/plain": [
       "'221 Goodbye.'"
      ]
     },
     "execution_count": 9,
     "metadata": {},
     "output_type": "execute_result"
    }
   ],
   "source": [
    "# connect ftp and download file\n",
    "ftp = ftplib.FTP(\"osisaf.met.no\") \n",
    "ftp.login(username, password)\n",
    "ftp.cwd(path)\n",
    "ftp.retrbinary(\"RETR \" + filename, open('products/sea_ice_concentration/nh/' + filename, 'wb').write)\n",
    "ftp.quit()"
   ]
  },
  {
   "cell_type": "markdown",
   "metadata": {},
   "source": [
    "Let's look at the Southern hemisphere Antarctic Sea Ice Concentration"
   ]
  },
  {
   "cell_type": "code",
   "execution_count": 10,
   "metadata": {},
   "outputs": [],
   "source": [
    "download_dir = os.path.join(os.getcwd(), \"products/sea_ice_concentration/sh\")\n",
    "os.makedirs(download_dir, exist_ok=True)"
   ]
  },
  {
   "cell_type": "markdown",
   "metadata": {},
   "source": [
    "Set the download path"
   ]
  },
  {
   "cell_type": "code",
   "execution_count": 11,
   "metadata": {},
   "outputs": [],
   "source": [
    "path = '/prod/ice/conc/'\n",
    "filename = 'ice_conc_sh_polstere-100_multi_202211081200.nc'"
   ]
  },
  {
   "cell_type": "code",
   "execution_count": 12,
   "metadata": {},
   "outputs": [
    {
     "data": {
      "text/plain": [
       "'221 Goodbye.'"
      ]
     },
     "execution_count": 12,
     "metadata": {},
     "output_type": "execute_result"
    }
   ],
   "source": [
    "# connect ftp and download file\n",
    "ftp = ftplib.FTP(\"osisaf.met.no\") \n",
    "ftp.login(username, password)\n",
    "ftp.cwd(path)\n",
    "ftp.retrbinary(\"RETR \" + filename, open('products/sea_ice_concentration/sh/' + filename, 'wb').write)\n",
    "ftp.quit()"
   ]
  },
  {
   "cell_type": "markdown",
   "metadata": {},
   "source": [
    "### Ice Type :\n",
    "\n",
    "Let's start by creating a specific folder to hold the Sea Ice Type products"
   ]
  },
  {
   "cell_type": "code",
   "execution_count": 13,
   "metadata": {},
   "outputs": [],
   "source": [
    "download_dir = os.path.join(os.getcwd(), \"products/sea_ice_type\")\n",
    "os.makedirs(download_dir, exist_ok=True)"
   ]
  },
  {
   "cell_type": "markdown",
   "metadata": {},
   "source": [
    "Sea Ice Type products exist for each hemisphere.\n",
    "\n",
    "Let's look at the Northern hemisphere Arctic Sea Ice Type"
   ]
  },
  {
   "cell_type": "code",
   "execution_count": 14,
   "metadata": {},
   "outputs": [],
   "source": [
    "download_dir = os.path.join(os.getcwd(), \"products/sea_ice_type/nh\")\n",
    "os.makedirs(download_dir, exist_ok=True)"
   ]
  },
  {
   "cell_type": "markdown",
   "metadata": {},
   "source": [
    "Set the download path"
   ]
  },
  {
   "cell_type": "code",
   "execution_count": 15,
   "metadata": {},
   "outputs": [],
   "source": [
    "path = '/prod/ice/type/'\n",
    "filename = 'ice_type_nh_polstere-100_multi_202211031200.nc'"
   ]
  },
  {
   "cell_type": "code",
   "execution_count": 16,
   "metadata": {},
   "outputs": [
    {
     "data": {
      "text/plain": [
       "'221 Goodbye.'"
      ]
     },
     "execution_count": 16,
     "metadata": {},
     "output_type": "execute_result"
    }
   ],
   "source": [
    "# connect ftp and download file\n",
    "ftp = ftplib.FTP(\"osisaf.met.no\") \n",
    "ftp.login(username, password)\n",
    "ftp.cwd(path)\n",
    "ftp.retrbinary(\"RETR \" + filename, open('products/sea_ice_type/nh/' + filename, 'wb').write)\n",
    "ftp.quit()"
   ]
  },
  {
   "cell_type": "markdown",
   "metadata": {},
   "source": [
    "Let's look at the Southern hemisphere Antarctic Sea Ice Type"
   ]
  },
  {
   "cell_type": "code",
   "execution_count": 17,
   "metadata": {},
   "outputs": [],
   "source": [
    "download_dir = os.path.join(os.getcwd(), \"products/sea_ice_type/sh\")\n",
    "os.makedirs(download_dir, exist_ok=True)"
   ]
  },
  {
   "cell_type": "markdown",
   "metadata": {},
   "source": [
    "Set the download path"
   ]
  },
  {
   "cell_type": "code",
   "execution_count": 18,
   "metadata": {},
   "outputs": [],
   "source": [
    "path = '/prod/ice/type/'\n",
    "filename = 'ice_type_sh_polstere-100_multi_202211031200.nc'"
   ]
  },
  {
   "cell_type": "code",
   "execution_count": 19,
   "metadata": {},
   "outputs": [
    {
     "data": {
      "text/plain": [
       "'221 Goodbye.'"
      ]
     },
     "execution_count": 19,
     "metadata": {},
     "output_type": "execute_result"
    }
   ],
   "source": [
    "# connect ftp and download file\n",
    "ftp = ftplib.FTP(\"osisaf.met.no\") \n",
    "ftp.login(username, password)\n",
    "ftp.cwd(path)\n",
    "ftp.retrbinary(\"RETR \" + filename, open('products/sea_ice_type/sh/' + filename, 'wb').write)\n",
    "ftp.quit()"
   ]
  },
  {
   "cell_type": "markdown",
   "metadata": {},
   "source": [
    "### Ice Edge :\n",
    "\n",
    "Let's start by creating a specific folder to hold the Sea Ice Edge products"
   ]
  },
  {
   "cell_type": "code",
   "execution_count": 20,
   "metadata": {},
   "outputs": [],
   "source": [
    "download_dir = os.path.join(os.getcwd(), \"products/sea_ice_edge\")\n",
    "os.makedirs(download_dir, exist_ok=True)"
   ]
  },
  {
   "cell_type": "markdown",
   "metadata": {},
   "source": [
    "Sea Ice Edge products exist for each hemisphere.\n",
    "\n",
    "Let's look at the Northern hemisphere Arctic Sea Ice Edge"
   ]
  },
  {
   "cell_type": "code",
   "execution_count": 21,
   "metadata": {},
   "outputs": [],
   "source": [
    "download_dir = os.path.join(os.getcwd(), \"products/sea_ice_edge/nh\")\n",
    "os.makedirs(download_dir, exist_ok=True)"
   ]
  },
  {
   "cell_type": "markdown",
   "metadata": {},
   "source": [
    "Set the download path"
   ]
  },
  {
   "cell_type": "code",
   "execution_count": 22,
   "metadata": {},
   "outputs": [],
   "source": [
    "path = '/prod/ice/edge/'\n",
    "filename = 'ice_edge_nh_polstere-100_multi_202211031200.nc'"
   ]
  },
  {
   "cell_type": "code",
   "execution_count": 23,
   "metadata": {},
   "outputs": [
    {
     "data": {
      "text/plain": [
       "'221 Goodbye.'"
      ]
     },
     "execution_count": 23,
     "metadata": {},
     "output_type": "execute_result"
    }
   ],
   "source": [
    "# connect ftp and download file\n",
    "ftp = ftplib.FTP(\"osisaf.met.no\") \n",
    "ftp.login(username, password)\n",
    "ftp.cwd(path)\n",
    "ftp.retrbinary(\"RETR \" + filename, open('products/sea_ice_edge/nh/' + filename, 'wb').write)\n",
    "ftp.quit()"
   ]
  },
  {
   "cell_type": "markdown",
   "metadata": {},
   "source": [
    "Let's look at the Southern hemisphere Antarctic Sea Ice Edge"
   ]
  },
  {
   "cell_type": "code",
   "execution_count": 24,
   "metadata": {},
   "outputs": [],
   "source": [
    "download_dir = os.path.join(os.getcwd(), \"products/sea_ice_edge/sh\")\n",
    "os.makedirs(download_dir, exist_ok=True)"
   ]
  },
  {
   "cell_type": "markdown",
   "metadata": {},
   "source": [
    "Set the download path"
   ]
  },
  {
   "cell_type": "code",
   "execution_count": 25,
   "metadata": {},
   "outputs": [],
   "source": [
    "path = '/prod/ice/edge/'\n",
    "filename = 'ice_edge_sh_polstere-100_multi_202211031200.nc'"
   ]
  },
  {
   "cell_type": "code",
   "execution_count": 26,
   "metadata": {},
   "outputs": [
    {
     "data": {
      "text/plain": [
       "'221 Goodbye.'"
      ]
     },
     "execution_count": 26,
     "metadata": {},
     "output_type": "execute_result"
    }
   ],
   "source": [
    "# connect ftp and download file\n",
    "ftp = ftplib.FTP(\"osisaf.met.no\") \n",
    "ftp.login(username, password)\n",
    "ftp.cwd(path)\n",
    "ftp.retrbinary(\"RETR \" + filename, open('products/sea_ice_edge/sh/' + filename, 'wb').write)\n",
    "ftp.quit()"
   ]
  },
  {
   "cell_type": "markdown",
   "metadata": {},
   "source": [
    "### Ice Emissivity :\n",
    "\n",
    "Let's start by creating a specific folder to hold the Sea Ice Emissivity products"
   ]
  },
  {
   "cell_type": "code",
   "execution_count": 27,
   "metadata": {},
   "outputs": [],
   "source": [
    "download_dir = os.path.join(os.getcwd(), \"products/sea_ice_emissivity\")\n",
    "os.makedirs(download_dir, exist_ok=True)"
   ]
  },
  {
   "cell_type": "markdown",
   "metadata": {},
   "source": [
    "Sea Ice Emmissivity products exist for each hemisphere.\n",
    "\n",
    "Let's look at the Northern hemisphere Arctic Sea Ice Emmissivity"
   ]
  },
  {
   "cell_type": "code",
   "execution_count": 28,
   "metadata": {},
   "outputs": [],
   "source": [
    "download_dir = os.path.join(os.getcwd(), \"products/sea_ice_emissivity/nh\")\n",
    "os.makedirs(download_dir, exist_ok=True)"
   ]
  },
  {
   "cell_type": "markdown",
   "metadata": {},
   "source": [
    "Set the download path"
   ]
  },
  {
   "cell_type": "code",
   "execution_count": 29,
   "metadata": {},
   "outputs": [],
   "source": [
    "path = '/prod/ice/emis/'\n",
    "filename = 'ice_emis_nh_stere-100_ssmis_202211081200.nc'"
   ]
  },
  {
   "cell_type": "code",
   "execution_count": 30,
   "metadata": {},
   "outputs": [
    {
     "data": {
      "text/plain": [
       "'221 Goodbye.'"
      ]
     },
     "execution_count": 30,
     "metadata": {},
     "output_type": "execute_result"
    }
   ],
   "source": [
    "# connect ftp and download file\n",
    "ftp = ftplib.FTP(\"osisaf.met.no\") \n",
    "ftp.login(username, password)\n",
    "ftp.cwd(path)\n",
    "ftp.retrbinary(\"RETR \" + filename, open('products/sea_ice_emissivity/nh/' + filename, 'wb').write)\n",
    "ftp.quit()"
   ]
  },
  {
   "cell_type": "markdown",
   "metadata": {},
   "source": [
    "Let's look at the Southern hemisphere Antarctic Sea Ice Emissivity"
   ]
  },
  {
   "cell_type": "code",
   "execution_count": 31,
   "metadata": {},
   "outputs": [],
   "source": [
    "download_dir = os.path.join(os.getcwd(), \"products/sea_ice_emissivity/sh\")\n",
    "os.makedirs(download_dir, exist_ok=True)"
   ]
  },
  {
   "cell_type": "markdown",
   "metadata": {},
   "source": [
    "Set the download path"
   ]
  },
  {
   "cell_type": "code",
   "execution_count": 32,
   "metadata": {},
   "outputs": [],
   "source": [
    "path = '/prod/ice/emis/'\n",
    "filename = 'ice_emis_sh_stere-100_ssmis_202211081200.nc'"
   ]
  },
  {
   "cell_type": "code",
   "execution_count": 33,
   "metadata": {},
   "outputs": [
    {
     "data": {
      "text/plain": [
       "'221 Goodbye.'"
      ]
     },
     "execution_count": 33,
     "metadata": {},
     "output_type": "execute_result"
    }
   ],
   "source": [
    "# connect ftp and download file\n",
    "ftp = ftplib.FTP(\"osisaf.met.no\") \n",
    "ftp.login(username, password)\n",
    "ftp.cwd(path)\n",
    "ftp.retrbinary(\"RETR \" + filename, open('products/sea_ice_emissivity/sh/' + filename, 'wb').write)\n",
    "ftp.quit()"
   ]
  },
  {
   "cell_type": "markdown",
   "metadata": {},
   "source": [
    "### Ice Drift :\n",
    "\n",
    "Let's start by creating a specific folder to hold the Sea Ice Drift products"
   ]
  },
  {
   "cell_type": "code",
   "execution_count": 34,
   "metadata": {},
   "outputs": [],
   "source": [
    "download_dir = os.path.join(os.getcwd(), \"products/sea_ice_drift/\")\n",
    "os.makedirs(download_dir, exist_ok=True)"
   ]
  },
  {
   "cell_type": "markdown",
   "metadata": {},
   "source": [
    "Sea Ice Drift products exist for each hemisphere.\n",
    "\n",
    "Let's look at the Northern hemisphere Arctic Sea Ice Drift"
   ]
  },
  {
   "cell_type": "code",
   "execution_count": 35,
   "metadata": {},
   "outputs": [],
   "source": [
    "download_dir = os.path.join(os.getcwd(), \"products/sea_ice_drift/nh\")\n",
    "os.makedirs(download_dir, exist_ok=True)"
   ]
  },
  {
   "cell_type": "markdown",
   "metadata": {},
   "source": [
    "Set the download path"
   ]
  },
  {
   "cell_type": "code",
   "execution_count": 36,
   "metadata": {},
   "outputs": [],
   "source": [
    "path = '/prod/ice/drift_lr/merged'\n",
    "filename = 'ice_drift_nh_polstere-625_multi-oi_202211071200-202211091200.nc'"
   ]
  },
  {
   "cell_type": "code",
   "execution_count": 37,
   "metadata": {},
   "outputs": [
    {
     "data": {
      "text/plain": [
       "'221 Goodbye.'"
      ]
     },
     "execution_count": 37,
     "metadata": {},
     "output_type": "execute_result"
    }
   ],
   "source": [
    "# connect ftp and download file\n",
    "ftp = ftplib.FTP(\"osisaf.met.no\") \n",
    "ftp.login(username, password)\n",
    "ftp.cwd(path)\n",
    "ftp.retrbinary(\"RETR \" + filename, open('products/sea_ice_drift/nh/' + filename, 'wb').write)\n",
    "ftp.quit()"
   ]
  },
  {
   "cell_type": "markdown",
   "metadata": {},
   "source": [
    "<a href=\"../Index.ipynb\" target=\"_blank\"><< Index</a>\n",
    "<br>\n",
    "<a href=\"./1_2_OSI_SAF_sea_ice_file_structure.ipynb\" target=\"_blank\">NEXT NOTEBOOK >></a>\n",
    "<hr>\n",
    "<a href=\"https://gitlab.eumetsat.int/eumetlab/ocean\">View on GitLab</a> | <a href=\"https://training.eumetsat.int/\">EUMETSAT Training</a> | <a href=mailto:ops@eumetsat.int>Contact helpdesk for support </a> | <a href=mailto:Copernicus.training@eumetsat.int>Contact our training team to collaborate on and reuse this material</a></span></p>"
   ]
  }
 ],
 "metadata": {
  "author": "Ben Loveday, Hayley Evers-King",
  "description": "This Jupyter Notebook covers the file structure of OLCI level-1B and level-2 products.",
  "github": "https://github.com/wekeo/learn-olci/blob/main/1_OLCI_introductory/1_2_OLCI_file_structure.ipynb",
  "image": "../img/thumbs/1_2_OLCI_file_structure_thumb.png",
  "kernelspec": {
   "display_name": "Python 3 (ipykernel)",
   "language": "python",
   "name": "python3"
  },
  "language_info": {
   "codemirror_mode": {
    "name": "ipython",
    "version": 3
   },
   "file_extension": ".py",
   "mimetype": "text/x-python",
   "name": "python",
   "nbconvert_exporter": "python",
   "pygments_lexer": "ipython3",
   "version": "3.10.5"
  },
  "link": "https://jupyterhub-wekeo.apps.eumetsat.dpi.wekeo.eu/hub/user-redirect/lab/tree/public/ocean/learn-olci/1_OLCI_introductory/1_2_OLCI_file_structure.ipynb",
  "tags": {
   "domain": "Ocean",
   "platform": "Sentinel-3",
   "sensor": "OLCI",
   "tags": [
    "Top-of-atmosphere radiance",
    "Water leaving reflectance",
    "Ocean colour"
   ]
  },
  "title": "OLCI file structure"
 },
 "nbformat": 4,
 "nbformat_minor": 4
}
